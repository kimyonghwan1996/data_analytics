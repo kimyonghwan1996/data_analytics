{
 "cells": [
  {
   "cell_type": "markdown",
   "id": "56e5eab7",
   "metadata": {},
   "source": [
    "# Linear Algebra : Basic I\n",
    "\n",
    "## Vectors\n",
    "## Matrix\n",
    "## Basic operation on Matrices\n",
    "## Innder Product\n",
    "## Projections"
   ]
  },
  {
   "cell_type": "code",
   "execution_count": 1,
   "id": "86bcef90",
   "metadata": {},
   "outputs": [],
   "source": [
    "import numpy as np"
   ]
  },
  {
   "cell_type": "markdown",
   "id": "61fda5d4",
   "metadata": {},
   "source": [
    "## Vectors\n",
    "\n",
    "\n",
    "* Data $\\to$ tuples of numbers.\n",
    "* Roughly speaking, vectors are tuples of numbers.\n",
    "* In general, there are high dimensional vectors, say tensors.\n",
    "* There are a number of useful operations on vectors, for example, addition, scalar multiplication, inner product, outer product, etc\n",
    "* In python, one can deal vectors using numpy array.\n",
    "* There are bunch of built-in commands in numpy package."
   ]
  },
  {
   "cell_type": "markdown",
   "id": "ae4e7c0d",
   "metadata": {},
   "source": [
    "**Example**\n",
    "\n",
    "A person's income is consisting of earned income (from laber), financial income, and other income (such as inheritrance). Suppose that the tax rates for incomes are 10\\%, 20\\%, and 50\\%, respectively. \n",
    "\n",
    "\n",
    "\n",
    "* A earns 3000, 500 and 100, respectively.$\\to$ Income vector is $(3000,500,100)$.\n",
    "* Similarly, the tax rate vector is $(0.1,0.2, 0.5)$.\n",
    "* If the spouse of A, say, B, earns 5000,0 and 1000 respectily. Then, the net income of A and B corresponds to the sum of two income vectors.\n",
    "* If each income of A becomes double, then it corresponds to a scalar multiplication of the income vector.\n",
    "* The tax can be calculated via inner product (a.k.a. dot product)."
   ]
  },
  {
   "cell_type": "code",
   "execution_count": 2,
   "id": "dfe32349",
   "metadata": {},
   "outputs": [
    {
     "name": "stdout",
     "output_type": "stream",
     "text": [
      "A+B = [5300  500 1100]\n",
      "2A = [ 600 1000  200]\n",
      "tax = 180.00\n"
     ]
    }
   ],
   "source": [
    "A = np.array([300,500, 100])\n",
    "B = np.array([5000,0,1000])\n",
    "tax_rate =np.array([0.1, 0.2, 0.5])\n",
    "print(\"A+B = %s\" %(A+B))\n",
    "print(\"2A = %s\" %(2*A))\n",
    "print(\"tax = %.2f\" %np.dot(A,tax_rate))"
   ]
  },
  {
   "cell_type": "markdown",
   "id": "7d77ff4a",
   "metadata": {},
   "source": [
    "## Matrix\n",
    "\n",
    "\n",
    "A <font color='red'>matrix</font> is an $n \\times m$ rectangle of numbers, written as follows:\n",
    "\n",
    "$$\\textbf{A}=\n",
    "\\begin{bmatrix}\n",
    "A_{11} & A_{12} & A_{13} & \\cdots & A_{1m} \\\\\n",
    "A_{21} & A_{22} & A_{23} & \\cdots & A_{2m} \\\\\n",
    "A_{31} & A_{32} & A_{33} & \\cdots & A_{3m} \\\\\n",
    "\\vdots & \\vdots & \\vdots & \\ddots & \\vdots \\\\\n",
    "A_{n1} & A_{n2} & A_{n3} & \\cdots & A_{nm}\n",
    "\\end{bmatrix}\\quad\n",
    "\\textbf{b}=\n",
    "\\begin{bmatrix}\n",
    "b_{1}\\\\\n",
    "b_{2}\\\\\n",
    "b_{3}\n",
    "\\end{bmatrix}\n",
    "$$\n",
    "\n",
    "\n",
    "Special cases:\n",
    "* $n=m$: <font color='red'>square</font> matrix of order $n$\n",
    "* $n=1$: *row vector*\n",
    "* $m=1$: *column vector*"
   ]
  },
  {
   "cell_type": "markdown",
   "id": "2826f146",
   "metadata": {},
   "source": [
    "**Example.**\n",
    "\n",
    "Find the shape of \n",
    "$\\mathbf{A} = \\begin{bmatrix}\n",
    "    1 & 2 \\\\\n",
    "    3 & 4 \\\\\n",
    "    5 & 6 \n",
    "    \\end{bmatrix}$."
   ]
  },
  {
   "cell_type": "code",
   "execution_count": 3,
   "id": "e3b79935",
   "metadata": {},
   "outputs": [
    {
     "name": "stdout",
     "output_type": "stream",
     "text": [
      "[[1 2]\n",
      " [3 4]\n",
      " [5 6]]\n",
      "------------------------------\n",
      "(3, 2)\n"
     ]
    }
   ],
   "source": [
    "A = np.array([[1,2], [3,4], [5,6]])\n",
    "print(A)\n",
    "print(\"-\"*30)\n",
    "print(A.shape)"
   ]
  },
  {
   "cell_type": "markdown",
   "id": "779a30c0",
   "metadata": {},
   "source": [
    "## Transpose\n",
    "\n",
    "The <font color='red'>transpose</font> of a matrix $\\textbf{A}$ is written $\\textbf{A}^T$ and defined as:\n",
    "$$\n",
    "\\quad A^T_{ij} = A_{ji}\n",
    "$$\n",
    "\n",
    "A matrix is called <font color='red'>symmetric</font> if $\\textbf{A}^T=\\textbf{A}$."
   ]
  },
  {
   "cell_type": "markdown",
   "id": "0d6eb160",
   "metadata": {},
   "source": [
    "**Example.**\n",
    "\n",
    "Find the transpose of\n",
    "$\\textbf{A}=\n",
    "\\begin{bmatrix}0&1\\\\2&4\\\\1&-1\\end{bmatrix}$."
   ]
  },
  {
   "cell_type": "code",
   "execution_count": 4,
   "id": "cbc1452a",
   "metadata": {},
   "outputs": [
    {
     "name": "stdout",
     "output_type": "stream",
     "text": [
      "[[ 0  1]\n",
      " [ 2  4]\n",
      " [ 1 -1]]\n",
      "------------------------------\n",
      "[[ 0  2  1]\n",
      " [ 1  4 -1]]\n",
      "------------------------------\n",
      "[[ 0  2  1]\n",
      " [ 1  4 -1]]\n"
     ]
    }
   ],
   "source": [
    "# transpose\n",
    "A = np.array([[0, 1], [2, 4], [1, -1]])\n",
    "print(A)\n",
    "print(\"-\"*30)\n",
    "print(A.T)\n",
    "print(\"-\"*30)\n",
    "print(A.transpose())   # np.transpose(A)"
   ]
  },
  {
   "cell_type": "markdown",
   "id": "b44726e8",
   "metadata": {},
   "source": [
    "**Example.**\n",
    "\n",
    "Show that $B$ is symmetric.\n",
    "$$\\textbf{B}=\n",
    "\\begin{bmatrix}2&1\\\\1&4 \\end{bmatrix}\n",
    "$$"
   ]
  },
  {
   "cell_type": "code",
   "execution_count": 5,
   "id": "3527f074",
   "metadata": {},
   "outputs": [
    {
     "name": "stdout",
     "output_type": "stream",
     "text": [
      "[[ True  True]\n",
      " [ True  True]]\n",
      "==============================\n",
      "True\n"
     ]
    }
   ],
   "source": [
    "# symmetric\n",
    "B = np.array([[2,1], [1,4]])\n",
    "print(B.T == B)\n",
    "print('='*30)\n",
    "print((B.T == B).all())"
   ]
  },
  {
   "cell_type": "markdown",
   "id": "869f7366",
   "metadata": {},
   "source": [
    "## Addition\n",
    "\n",
    "The *sum* $\\textbf{C} = \\textbf{A} + \\textbf{B}$ of two matrices of size $n \\times m$ is defined as:\n",
    "$$\n",
    "C_{ij} = A_{ij} + B_{ij}, \\quad i=1, \\cdots, n, ~~ j=1, \\cdots m\n",
    "$$\n"
   ]
  },
  {
   "cell_type": "markdown",
   "id": "5547ccff",
   "metadata": {},
   "source": [
    "**Example.**\n",
    "\n",
    "$\\begin{bmatrix}\n",
    "-1 & 2\\\\ 0 & 1\n",
    "\\end{bmatrix}\n",
    "+\\begin{bmatrix}\n",
    "1 & 3\\\\ -1 & 2\n",
    "\\end{bmatrix}$\n",
    "\n",
    "$\\begin{bmatrix}\n",
    "2 & 1 & 0\\\\ 4 & 0 & -1\n",
    "\\end{bmatrix}\n",
    "+\\begin{bmatrix}\n",
    "0 & 1\\\\ -1 & 3\n",
    "\\end{bmatrix}$"
   ]
  },
  {
   "cell_type": "code",
   "execution_count": 7,
   "id": "0df0f752",
   "metadata": {},
   "outputs": [
    {
     "name": "stdout",
     "output_type": "stream",
     "text": [
      "[[ 0  5]\n",
      " [-1  3]]\n",
      "==============================\n",
      "[[3 2 1]\n",
      " [5 1 0]]\n"
     ]
    }
   ],
   "source": [
    "A1 = np.array([[-1,2],[0,1]])\n",
    "A2 = np.array([[1,3], [-1,2]])\n",
    "print(A1+A2)\n",
    "print('='*30)\n",
    "B1 = np.array([[2,1,0],[4,0,-1]])\n",
    "B2 = np.array([[0,1],[-1,3]])\n",
    "B3 = np.array([1,1,1])\n",
    "#print(B1+B2)\n",
    "#broad-casting\n",
    "print(B1+B3)"
   ]
  },
  {
   "cell_type": "markdown",
   "id": "658b0690",
   "metadata": {},
   "source": [
    "## Scalar Multiplication\n",
    "\n",
    "For a real number $c \\in \\mathbb{R}$, the *scalar multiplication* $c \\textbf{A}$ of the matrix $A$ of size $n \\times m$ is defined as:\n",
    "$$\n",
    "(cA)_{ij} = c A_{ij}, \\quad i=1, \\cdots, n, ~~ j=1, \\cdots m\n",
    "$$\n"
   ]
  },
  {
   "cell_type": "markdown",
   "id": "faf2e897",
   "metadata": {},
   "source": [
    "**Example.**\n",
    "\n",
    "$5\\begin{bmatrix}\n",
    "-1 & 2\\\\ 0 & 1\n",
    "\\end{bmatrix}$\n",
    "\n",
    "$3\\begin{bmatrix}\n",
    "2 & 1 & 0\\\\ 4 & 0 & -1\n",
    "\\end{bmatrix}$"
   ]
  },
  {
   "cell_type": "code",
   "execution_count": 8,
   "id": "3afc24c4",
   "metadata": {},
   "outputs": [
    {
     "name": "stdout",
     "output_type": "stream",
     "text": [
      "[[-5 10]\n",
      " [ 0  5]]\n",
      "==============================\n",
      "[[ 6  3  0]\n",
      " [12  0 -3]]\n"
     ]
    }
   ],
   "source": [
    "print(5*A1)\n",
    "print('='*30)\n",
    "print(3*B1)"
   ]
  },
  {
   "cell_type": "markdown",
   "id": "68c788a4",
   "metadata": {},
   "source": [
    "## Matrix Mmuliplication\n",
    "\n",
    "The matrix multiplication $\\textbf{C} =\\textbf{A} \\textbf{B}$ of an $n \\times p$ matrix $\\textbf{A}$ with a $p \\times m$ matrix $\\textbf{B}$ is an $n \\times m$ matrix defined as:\n",
    "\n",
    "$$\n",
    "C_{ij} = \\sum_{k=1}^p A_{ik}B_{kj} \\quad i=1, \\cdots, n, ~~ j=1, \\cdots m\n",
    "$$"
   ]
  },
  {
   "cell_type": "markdown",
   "id": "5b9b0b96",
   "metadata": {},
   "source": [
    "**Example.**\n",
    "\n",
    "Find $\\textbf{AB}$ and $\\textbf{BA}$ for\n",
    "$$\n",
    "\\textbf{A}=\\begin{bmatrix} 1 & 3\\\\2&-1\\end{bmatrix} \\quad \\text{and} \\quad \\textbf{B}=\\begin{bmatrix}2&-1\\\\0&2\\end{bmatrix}.\n",
    "$$"
   ]
  },
  {
   "cell_type": "code",
   "execution_count": 9,
   "id": "92e1e53f",
   "metadata": {},
   "outputs": [
    {
     "name": "stdout",
     "output_type": "stream",
     "text": [
      "[[ 2  5]\n",
      " [ 4 -4]]\n",
      "[[ 2  5]\n",
      " [ 4 -4]]\n",
      "[[ 2  5]\n",
      " [ 4 -4]]\n",
      "==============================\n",
      "[[ 0  7]\n",
      " [ 4 -2]]\n"
     ]
    }
   ],
   "source": [
    "# matrix muliplication\n",
    "A = np.array([[1, 3],[2, -1]])\n",
    "B = np.array([[2, -1], [0, 2]])\n",
    "print(A @ B)\n",
    "print(np.matmul(A, B))\n",
    "print(np.dot(A, B))\n",
    "print(\"=\"*30)\n",
    "print(B @ A)"
   ]
  },
  {
   "cell_type": "markdown",
   "id": "d324b3a7",
   "metadata": {},
   "source": [
    "## Dot Product\n",
    "\n",
    "The *dot product* $c = \\textbf{a} \\cdot \\textbf{b}$ (or $\\langle \\textbf{a}, \\textbf{b} \\rangle$) of the vectors  $\\textbf{a}$ and $\\textbf{b}$, each of size $m$ is defined as the scalar\n",
    "\n",
    "$$\n",
    "c = \\sum_{i=1}^m a_k b_k\n",
    "$$\n",
    "\n",
    "**Note**. \n",
    "\n",
    "* $\\textbf{a} \\cdot \\textbf{b} = \\textbf{a}^T \\textbf{b}$\n",
    "* $\\textbf{a}$ and $\\textbf{b}$ are orthogonal if and only if $\\textbf{a} \\cdot \\textbf{b} = 0$."
   ]
  },
  {
   "cell_type": "markdown",
   "id": "7d901ab5",
   "metadata": {},
   "source": [
    "**Example A4.**\n",
    "Let\n",
    "$$\n",
    "\\textbf{u}=\\begin{bmatrix}1\\\\6\\\\-2\\end{bmatrix}\n",
    "\\quad \\text{and} \\quad\n",
    "\\textbf{v}=\\begin{bmatrix}8\\\\0\\\\-3\\end{bmatrix}.\n",
    "$$\n",
    "\n",
    "Find $\\textbf{u}+\\textbf{v}$, $\\textbf{u}\\cdot \\textbf{v}$, and $\\textbf{u}^T \\textbf{v}$.\n",
    "\n",
    "&nbsp;"
   ]
  },
  {
   "cell_type": "code",
   "execution_count": 12,
   "id": "6192bde9",
   "metadata": {},
   "outputs": [
    {
     "name": "stdout",
     "output_type": "stream",
     "text": [
      "[ 1  6 -2]\n",
      "[ 8  0 -3]\n"
     ]
    },
    {
     "data": {
      "text/plain": [
       "14"
      ]
     },
     "execution_count": 12,
     "metadata": {},
     "output_type": "execute_result"
    }
   ],
   "source": [
    "u = np.array([1, 6, -2])\n",
    "v = np.array([8, 0, -3])\n",
    "print(u)\n",
    "print(v)\n",
    "np.dot(u, v)"
   ]
  },
  {
   "cell_type": "markdown",
   "id": "1aacba6e",
   "metadata": {},
   "source": [
    "## Identity Matrix\n",
    "\n",
    "The <font color='red'>identity matrix</font> of size $n$ is a square matrix with $1$s on its diagonal and $0$s everywhere else:\n",
    "$$\n",
    "\\textbf{I}_n=\n",
    "\\begin{bmatrix}\n",
    "1 & 0 & 0 & \\ldots & 0 \\\\\n",
    "0 & 1 & 0 & \\ldots &0 \\\\\n",
    "0 & 0 & 1 & \\ldots & 0 \\\\\n",
    "\\ldots \\\\\n",
    "0 & 0 & 0 & \\ldots & 1\n",
    "\\end{bmatrix}\n",
    "$$\n",
    "\n",
    "It verifies $\\textbf{AI} = \\textbf{IA} = \\textbf{A}$ for every square matrix $\\textbf{A}$ of size $n$."
   ]
  },
  {
   "cell_type": "code",
   "execution_count": 13,
   "id": "36b64a1f",
   "metadata": {},
   "outputs": [
    {
     "name": "stdout",
     "output_type": "stream",
     "text": [
      "[[1. 0. 0.]\n",
      " [0. 1. 0.]\n",
      " [0. 0. 1.]]\n",
      "==============================\n",
      "[[1. 0. 0. 0.]\n",
      " [0. 1. 0. 0.]\n",
      " [0. 0. 1. 0.]\n",
      " [0. 0. 0. 1.]]\n",
      "==============================\n",
      "[[1. 2. 3.]\n",
      " [4. 5. 6.]]\n"
     ]
    }
   ],
   "source": [
    "print(np.identity(3))\n",
    "print(\"=\"*30)\n",
    "print(np.eye(4))\n",
    "print(\"=\"*30)\n",
    "A = np.array([[1,2,3],[4,5,6]])\n",
    "print(np.dot(A, np.eye(3)))"
   ]
  },
  {
   "cell_type": "markdown",
   "id": "18ea6c18",
   "metadata": {},
   "source": [
    "## Inverse\n",
    "\n",
    "The *inverse* of an $n \\times n$ matrix $\\textbf{A}$, denoted by $\\textbf{A}^{−1}$, is defined to be an $n \\times n$ matrix that has the property\n",
    "\n",
    "$$\n",
    "\\textbf{A}^{−1} \\textbf{A} = \\textbf{A} \\textbf{A}^{−1} = \\textbf{I}\n",
    "$$"
   ]
  },
  {
   "cell_type": "code",
   "execution_count": 15,
   "id": "9608cc36",
   "metadata": {},
   "outputs": [
    {
     "name": "stdout",
     "output_type": "stream",
     "text": [
      "[[ 4. -2.  1.]\n",
      " [-2.  4. -2.]\n",
      " [ 1. -2.  3.]]\n",
      "[[0.33333333 0.16666667 0.        ]\n",
      " [0.16666667 0.45833333 0.25      ]\n",
      " [0.         0.25       0.5       ]]\n",
      "[[1. 0. 0.]\n",
      " [0. 1. 0.]\n",
      " [0. 0. 1.]]\n",
      "[[1. 0. 0.]\n",
      " [0. 1. 0.]\n",
      " [0. 0. 1.]]\n"
     ]
    }
   ],
   "source": [
    "A = np.array([[ 4.0, -2.0,  1.0],\n",
    "              [-2.0,  4.0, -2.0],\n",
    "              [ 1.0, -2.0,  3.0]])\n",
    "invA = np.linalg.inv(A)  # matrix inverse\n",
    "print(A)\n",
    "print(invA)\n",
    "print(A @ invA)\n",
    "print(invA @ A)"
   ]
  },
  {
   "cell_type": "code",
   "execution_count": 17,
   "id": "9b5923c8",
   "metadata": {},
   "outputs": [
    {
     "ename": "LinAlgError",
     "evalue": "Singular matrix",
     "output_type": "error",
     "traceback": [
      "\u001b[1;31m---------------------------------------------------------------------------\u001b[0m",
      "\u001b[1;31mLinAlgError\u001b[0m                               Traceback (most recent call last)",
      "\u001b[1;32m~\\AppData\\Local\\Temp/ipykernel_11732/1086144199.py\u001b[0m in \u001b[0;36m<module>\u001b[1;34m\u001b[0m\n\u001b[0;32m      1\u001b[0m \u001b[1;31m# non-invertible matrix\u001b[0m\u001b[1;33m\u001b[0m\u001b[1;33m\u001b[0m\u001b[0m\n\u001b[0;32m      2\u001b[0m \u001b[0mA\u001b[0m \u001b[1;33m=\u001b[0m \u001b[0mnp\u001b[0m\u001b[1;33m.\u001b[0m\u001b[0marray\u001b[0m\u001b[1;33m(\u001b[0m\u001b[1;33m[\u001b[0m\u001b[1;33m[\u001b[0m\u001b[1;36m3\u001b[0m\u001b[1;33m,\u001b[0m\u001b[1;36m2\u001b[0m\u001b[1;33m]\u001b[0m\u001b[1;33m,\u001b[0m\u001b[1;33m[\u001b[0m\u001b[1;36m3\u001b[0m\u001b[1;33m,\u001b[0m\u001b[1;36m2\u001b[0m\u001b[1;33m]\u001b[0m\u001b[1;33m]\u001b[0m\u001b[1;33m)\u001b[0m\u001b[1;33m\u001b[0m\u001b[1;33m\u001b[0m\u001b[0m\n\u001b[1;32m----> 3\u001b[1;33m \u001b[0minvA\u001b[0m \u001b[1;33m=\u001b[0m \u001b[0mnp\u001b[0m\u001b[1;33m.\u001b[0m\u001b[0mlinalg\u001b[0m\u001b[1;33m.\u001b[0m\u001b[0minv\u001b[0m\u001b[1;33m(\u001b[0m\u001b[0mA\u001b[0m\u001b[1;33m)\u001b[0m\u001b[1;33m\u001b[0m\u001b[1;33m\u001b[0m\u001b[0m\n\u001b[0m\u001b[0;32m      4\u001b[0m \u001b[0mprint\u001b[0m\u001b[1;33m(\u001b[0m\u001b[0minvA\u001b[0m\u001b[1;33m)\u001b[0m\u001b[1;33m\u001b[0m\u001b[1;33m\u001b[0m\u001b[0m\n",
      "\u001b[1;32m~\\AppData\\Roaming\\Python\\Python39\\site-packages\\numpy\\core\\overrides.py\u001b[0m in \u001b[0;36minv\u001b[1;34m(*args, **kwargs)\u001b[0m\n",
      "\u001b[1;32m~\\AppData\\Roaming\\Python\\Python39\\site-packages\\numpy\\linalg\\linalg.py\u001b[0m in \u001b[0;36minv\u001b[1;34m(a)\u001b[0m\n\u001b[0;32m    543\u001b[0m     \u001b[0msignature\u001b[0m \u001b[1;33m=\u001b[0m \u001b[1;34m'D->D'\u001b[0m \u001b[1;32mif\u001b[0m \u001b[0misComplexType\u001b[0m\u001b[1;33m(\u001b[0m\u001b[0mt\u001b[0m\u001b[1;33m)\u001b[0m \u001b[1;32melse\u001b[0m \u001b[1;34m'd->d'\u001b[0m\u001b[1;33m\u001b[0m\u001b[1;33m\u001b[0m\u001b[0m\n\u001b[0;32m    544\u001b[0m     \u001b[0mextobj\u001b[0m \u001b[1;33m=\u001b[0m \u001b[0mget_linalg_error_extobj\u001b[0m\u001b[1;33m(\u001b[0m\u001b[0m_raise_linalgerror_singular\u001b[0m\u001b[1;33m)\u001b[0m\u001b[1;33m\u001b[0m\u001b[1;33m\u001b[0m\u001b[0m\n\u001b[1;32m--> 545\u001b[1;33m     \u001b[0mainv\u001b[0m \u001b[1;33m=\u001b[0m \u001b[0m_umath_linalg\u001b[0m\u001b[1;33m.\u001b[0m\u001b[0minv\u001b[0m\u001b[1;33m(\u001b[0m\u001b[0ma\u001b[0m\u001b[1;33m,\u001b[0m \u001b[0msignature\u001b[0m\u001b[1;33m=\u001b[0m\u001b[0msignature\u001b[0m\u001b[1;33m,\u001b[0m \u001b[0mextobj\u001b[0m\u001b[1;33m=\u001b[0m\u001b[0mextobj\u001b[0m\u001b[1;33m)\u001b[0m\u001b[1;33m\u001b[0m\u001b[1;33m\u001b[0m\u001b[0m\n\u001b[0m\u001b[0;32m    546\u001b[0m     \u001b[1;32mreturn\u001b[0m \u001b[0mwrap\u001b[0m\u001b[1;33m(\u001b[0m\u001b[0mainv\u001b[0m\u001b[1;33m.\u001b[0m\u001b[0mastype\u001b[0m\u001b[1;33m(\u001b[0m\u001b[0mresult_t\u001b[0m\u001b[1;33m,\u001b[0m \u001b[0mcopy\u001b[0m\u001b[1;33m=\u001b[0m\u001b[1;32mFalse\u001b[0m\u001b[1;33m)\u001b[0m\u001b[1;33m)\u001b[0m\u001b[1;33m\u001b[0m\u001b[1;33m\u001b[0m\u001b[0m\n\u001b[0;32m    547\u001b[0m \u001b[1;33m\u001b[0m\u001b[0m\n",
      "\u001b[1;32m~\\AppData\\Roaming\\Python\\Python39\\site-packages\\numpy\\linalg\\linalg.py\u001b[0m in \u001b[0;36m_raise_linalgerror_singular\u001b[1;34m(err, flag)\u001b[0m\n\u001b[0;32m     86\u001b[0m \u001b[1;33m\u001b[0m\u001b[0m\n\u001b[0;32m     87\u001b[0m \u001b[1;32mdef\u001b[0m \u001b[0m_raise_linalgerror_singular\u001b[0m\u001b[1;33m(\u001b[0m\u001b[0merr\u001b[0m\u001b[1;33m,\u001b[0m \u001b[0mflag\u001b[0m\u001b[1;33m)\u001b[0m\u001b[1;33m:\u001b[0m\u001b[1;33m\u001b[0m\u001b[1;33m\u001b[0m\u001b[0m\n\u001b[1;32m---> 88\u001b[1;33m     \u001b[1;32mraise\u001b[0m \u001b[0mLinAlgError\u001b[0m\u001b[1;33m(\u001b[0m\u001b[1;34m\"Singular matrix\"\u001b[0m\u001b[1;33m)\u001b[0m\u001b[1;33m\u001b[0m\u001b[1;33m\u001b[0m\u001b[0m\n\u001b[0m\u001b[0;32m     89\u001b[0m \u001b[1;33m\u001b[0m\u001b[0m\n\u001b[0;32m     90\u001b[0m \u001b[1;32mdef\u001b[0m \u001b[0m_raise_linalgerror_nonposdef\u001b[0m\u001b[1;33m(\u001b[0m\u001b[0merr\u001b[0m\u001b[1;33m,\u001b[0m \u001b[0mflag\u001b[0m\u001b[1;33m)\u001b[0m\u001b[1;33m:\u001b[0m\u001b[1;33m\u001b[0m\u001b[1;33m\u001b[0m\u001b[0m\n",
      "\u001b[1;31mLinAlgError\u001b[0m: Singular matrix"
     ]
    }
   ],
   "source": [
    "# non-invertible matrix\n",
    "A = np.array([[3,2],[3,2]])\n",
    "invA = np.linalg.inv(A)\n",
    "print(invA)"
   ]
  },
  {
   "cell_type": "markdown",
   "id": "b50d0cba",
   "metadata": {},
   "source": [
    "## Determinant of a Matrix\n",
    "\n",
    "The determinant of a $2\\times 2$ matrix is defined as:\n",
    "\n",
    "$$\n",
    "\\mathrm{det}(\\textbf{A})\n",
    "= \\left|\n",
    "\\begin{matrix}\n",
    "A_{11} & A_{12}\\\\\n",
    "A_{21} & A_{22}\n",
    "\\end{matrix}\n",
    "\\right| = A_{11}A_{22}-A_{12}A_{21}\n",
    "$$\n",
    "\n",
    "\n",
    "The determinant of a $3\\times 3$ matrix is defined as:\n",
    "\n",
    "$$\n",
    "\\mathrm{det}(\\textbf{A})\n",
    "= \\left|\n",
    "\\begin{matrix}\n",
    "A_{11} & A_{12} & A_{13} \\\\\n",
    "A_{21} & A_{22} & A_{23} \\\\\n",
    "A_{31} & A_{32} & A_{33}\n",
    "\\end{matrix}\n",
    "\\right|\n",
    "= A_{11}\\left|\n",
    "\\begin{matrix}\n",
    "A_{22} & A_{23}\\\\\n",
    "A_{32} & A_{33}\n",
    "\\end{matrix}\n",
    "\\right|\n",
    "-A_{12}\\left|\n",
    "\\begin{matrix}\n",
    "A_{21} & A_{23}\\\\\n",
    "A_{31} & A_{33}\n",
    "\\end{matrix}\n",
    "\\right|\n",
    "+A_{13}\\left|\n",
    "\\begin{matrix}\n",
    "A_{21} & A_{22}\\\\\n",
    "A_{31} & A_{32}\n",
    "\\end{matrix}\n",
    "\\right|\n",
    "$$\n",
    "\n",
    "\n",
    "The <font color='red'>determinant</font> of a $n \\times n$ matrix is defined recursively, $\\forall i \\leq n$:\n",
    "\n",
    "$$\n",
    "\\mathrm{det}(\\textbf{A}) = \\sum_{k=1}^n(-1)^{k+1}A_{ik}M_{ik}\n",
    "$$\n",
    "\n",
    "where $M_{ik}$ is the determinant of the $(n-1) \\times (n-1)$ matrix obtained by deleting the $i$th row and $k$th column of $\\textbf{A}$.\n",
    "\n",
    "* $M_{ik}$ : <font color='red'>minor</font> of $A_{ik}$\n",
    "* $(-1)^{k+1}M_{ik}$ : <font color='red'>cofactor</font> of $A_{ik}$\n"
   ]
  },
  {
   "cell_type": "markdown",
   "id": "f9b05852",
   "metadata": {},
   "source": [
    "**Example A5.**\n",
    "Let\n",
    "$$\n",
    "\\textbf{A}=\n",
    "\\begin{bmatrix}1&2&3\\\\1&2&1\\\\0&1&2\\end{bmatrix}.\n",
    "$$\n",
    "\n",
    "Compute the determinant of $\\textbf{A}$. \n",
    "&nbsp;"
   ]
  },
  {
   "cell_type": "code",
   "execution_count": null,
   "id": "71afc15e",
   "metadata": {},
   "outputs": [],
   "source": [
    "A = np.array([[1, 2, 3],\n",
    "              [1, 2, 1],\n",
    "              [0, 1, 2]])\n",
    "\n",
    "np.linalg.det(A) # 행렬식"
   ]
  },
  {
   "cell_type": "markdown",
   "id": "eee5caf3",
   "metadata": {},
   "source": [
    "## Useful Theorems\n",
    "\n",
    "* $(\\textbf{AB})^T = \\textbf{B}^T \\textbf{A}^T$\n",
    "* $(\\textbf{AB})^{-1} = \\textbf{B}^{-1} \\textbf{A}^{-1}$\n",
    "* $|\\textbf{A}^T| = |\\textbf{A}|$\n",
    "* $|\\textbf{AB}| = |\\textbf{A}| |\\textbf{B}|$\n",
    "* $A$ is invertible if and only if $|A| \\neq 0$"
   ]
  },
  {
   "cell_type": "markdown",
   "id": "7d855460",
   "metadata": {},
   "source": [
    "## Orthonormal Basis \n",
    "\n",
    "\n",
    "$\\{ \\mathbf{v}_1, \\mathbf{v}_2, \\ldots, \\mathbf{v}_n \\} \\subset \\mathbb{R}^n$ is orthonormal basis if \n",
    "$$ \\langle \\mathbf{v}_i , \\mathbf{v}_j \\rangle =\n",
    "\\begin{cases}\n",
    "1 &\\text{, if $i = j$,} \\\\\n",
    "0 &\\text{, if $i \\neq j$.} \n",
    "\\end{cases}\n",
    "$$\n",
    "\n",
    "\n",
    "**Example**\n",
    "* $\\{ (1,0), (0,1) \\}$\n",
    "* $\\{ \\frac{1}{\\sqrt{2}} (1,1), \\frac{1}{\\sqrt{2}} (1,-1) \\}$\n",
    "* $\\{ (1,0,0), (0,1,0), (0,0,1) \\}$"
   ]
  },
  {
   "cell_type": "markdown",
   "id": "0bfa3df8",
   "metadata": {},
   "source": [
    "## Projection \n",
    "\n",
    "\n",
    "For $\\{ \\mathbf{v}_1, \\mathbf{v}_2, \\ldots, \\mathbf{v}_k \\} \\subset \\mathbb{R}^n$ is orthonormal subset and $W = {\\rm span} \\{ \\mathbf{v}_1, \\mathbf{v}_2, \\ldots, \\mathbf{v}_k \\} = \\{ \\sum_{i=1}^{k} a_i \\mathbf{v}_i : a_i \\in \\mathbb{R} \\}$, and $\\mathbf{v} \\in \\mathbb{R}$, the projection of $\\mathbf{v}$ onto $W$ is defined as\n",
    "$$\n",
    "{\\rm proj}_{W} \\mathbf{v} = \\sum_{i=1}^{k} \\langle \\mathbf{v}, \\mathbf{v}_i \\rangle \\mathbf{v}_i.\n",
    "$$\n",
    "\n",
    "\n",
    "**Properties**\n",
    "* $\\| \\mathbf{w} - \\mathbf{v} \\| \\geq \\| {\\rm proj}_W \\mathbf{v} - \\mathbf{v} \\|$ for all $\\mathbf{w} \\in W$\n",
    "* $\\langle \\mathbf{v} - {\\rm proj}_W \\mathbf{v}, {\\rm proj}_{W} \\mathbf{v} \\rangle = 0$"
   ]
  },
  {
   "cell_type": "markdown",
   "id": "066741c8",
   "metadata": {},
   "source": [
    "**Example**\n",
    "\n",
    "Let $W \\subset \\mathbb{R}^3$ be the subset spanned by $\\{ \\frac{1}{\\sqrt{2}} (1,0,1), (0,1,0) \\}$. Find the projection of the vector $(2,1,-1)$ onto $W$. "
   ]
  },
  {
   "cell_type": "code",
   "execution_count": null,
   "id": "5d587296",
   "metadata": {},
   "outputs": [],
   "source": [
    "v1 =np.array([1,0,1])\n",
    "v1 = v1/np.sqrt(2)\n",
    "v2 = np.array([0,1,0])\n",
    "vs = [v1,v2]\n",
    "v = np.array([2,1,-1])\n",
    "proj = np.zeros_like(v)\n",
    "for vi in vs:\n",
    "    proj = proj + np.dot(vi,v)*vi\n",
    "proj"
   ]
  },
  {
   "cell_type": "markdown",
   "id": "6961286e",
   "metadata": {},
   "source": [
    "## Orthogonal Matrix\n",
    "\n",
    "\n",
    "A matrix $\\mathbf{A}$ of size $n$ is orthonormal if $\\mathbf{A}^T = \\mathbf{A}^{-1}$. In other words, $\\mathbf{A}^T \\mathbf{A} = \\mathbf{A}^T \\mathbf{A} = \\mathbf{I}_n$.\n",
    "\n",
    "**Property**\n",
    "* Row vectors of $A$ are an orthonormal basis. \n",
    "* Column vectors of $A$ are an orthnormal basis."
   ]
  },
  {
   "cell_type": "markdown",
   "id": "7ed6c982",
   "metadata": {},
   "source": [
    "**Example**\n",
    "\n",
    "$$ \\mathbf{A} = \\frac{1}{\\sqrt{2}} \\begin{bmatrix} 1 & 1 \\\\ 1 & -1 \\end{bmatrix} $$\n",
    "is an orthogonal matrix. "
   ]
  },
  {
   "cell_type": "code",
   "execution_count": null,
   "id": "e6e09b8c",
   "metadata": {},
   "outputs": [],
   "source": [
    "A = np.array([[1,1],[1,-1]])\n",
    "A = A/np.sqrt(2)\n",
    "print(A.T)\n",
    "print(\"=\"*30)\n",
    "print(np.linalg.inv(A))\n",
    "print(\"=\"*30)\n",
    "print(A.T - np.linalg.inv(A))"
   ]
  },
  {
   "cell_type": "code",
   "execution_count": null,
   "id": "bc432f8d",
   "metadata": {},
   "outputs": [],
   "source": [
    "A = np.array([[1,1],[1,-1]], dtype=np.float32)\n",
    "A = A/np.sqrt(2)\n",
    "print(A.T)\n",
    "print(\"=\"*30)\n",
    "print(np.linalg.inv(A))\n",
    "print(\"=\"*30)\n",
    "print(A.T - np.linalg.inv(A))\n",
    "print(A.T == np.linalg.inv(A))"
   ]
  },
  {
   "cell_type": "code",
   "execution_count": null,
   "id": "2c8953f3",
   "metadata": {},
   "outputs": [],
   "source": []
  }
 ],
 "metadata": {
  "kernelspec": {
   "display_name": "Python 3 (ipykernel)",
   "language": "python",
   "name": "python3"
  },
  "language_info": {
   "codemirror_mode": {
    "name": "ipython",
    "version": 3
   },
   "file_extension": ".py",
   "mimetype": "text/x-python",
   "name": "python",
   "nbconvert_exporter": "python",
   "pygments_lexer": "ipython3",
   "version": "3.9.7"
  }
 },
 "nbformat": 4,
 "nbformat_minor": 5
}
