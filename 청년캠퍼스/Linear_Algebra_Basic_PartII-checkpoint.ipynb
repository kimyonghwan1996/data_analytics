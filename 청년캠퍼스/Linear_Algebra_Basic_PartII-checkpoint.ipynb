{
 "cells": [
  {
   "cell_type": "markdown",
   "id": "a8bbc870",
   "metadata": {},
   "source": [
    "# Linear Algebra Basic Part II\n",
    "\n",
    "## Linear Transformation\n",
    "## Basis\n",
    "## Basis-representation\n",
    "## Basis-change\n",
    "## Eigenvalues and Eigenvectors\n",
    "## Diagonalization"
   ]
  },
  {
   "cell_type": "code",
   "execution_count": 1,
   "id": "fe7a690f",
   "metadata": {},
   "outputs": [],
   "source": [
    "import numpy as np\n",
    "import matplotlib.pyplot as plt"
   ]
  },
  {
   "cell_type": "markdown",
   "id": "b7cc4e10",
   "metadata": {},
   "source": [
    "## Linear Transformation\n",
    "\n",
    "\n",
    "$T : \\mathbb{R}^n \\to \\mathbb{R}^m$ is a linear transformation if\n",
    "\n",
    "\n",
    "$T( \\mathbf{x} + \\mathbf{y}) = T(\\mathbf{x}) + T (\\mathbf{y} )$ and $T( c\\mathbf{x} ) = c T(\\mathbf{x})$, \n",
    "\n",
    "for $\\mathbf{x}, \\mathbf{y} \\in \\mathbb{R}^n$ and $c \\in \\mathbb{R}$.\n",
    "\n",
    "\n",
    "**Remarks**\n",
    "* For $m \\times n$ matrix $\\mathbf{A}$, $\\mathbf{x} \\in \\mathbb{R}^n$, $T(\\mathbf{x} ) = \\mathbf{A} \\mathbf{x}$ is a linear transformation \n",
    "* If $T$ is linear, then there is a matrix $\\mathbf{A}$ such that $T = L_A$."
   ]
  },
  {
   "cell_type": "markdown",
   "id": "92ac926a",
   "metadata": {},
   "source": [
    "**Examples**\n",
    "\n",
    "* $T = L_A$ with $\\mathbf{A} = \\begin{bmatrix} 2 & 0 \\\\ 0 & 1 \\end{bmatrix}$\n",
    "* $T = L_B$ with $\\mathbf{B} = \\begin{bmatrix} \\cos \\theta & -\\sin \\theta \\\\ \\sin \\theta & \\cos \\theta \\end{bmatrix}$"
   ]
  },
  {
   "cell_type": "code",
   "execution_count": 2,
   "id": "c35bd91b",
   "metadata": {},
   "outputs": [
    {
     "data": {
      "image/png": "[encoded data removed]",
      "text/plain": [
       "<Figure size 432x288 with 1 Axes>"
      ]
     },
     "metadata": {
      "needs_background": "light"
     },
     "output_type": "display_data"
    }
   ],
   "source": [
    "pts = np.array([ [0.1*i, 0] for i in range(20)])\n",
    "pts = pts.transpose()\n",
    "plt.plot(pts[0,:], pts[1,:], 'r*', markersize=10, alpha=0.5)\n",
    "A = np.array([[2,0],[0,1]])\n",
    "B = np.array([[np.cos(np.pi/6), -np.sin(np.pi/6)],[np.sin(np.pi/6), np.cos(np.pi/6)]]) # B with theta = pi/6\n",
    "Apts = np.dot(A, pts)\n",
    "Bpts = np.dot(B, pts)\n",
    "plt.plot(Apts[0,:], Apts[1,:], 'bo', markersize=10)\n",
    "plt.plot(Bpts[0,:], Bpts[1,:], 'y^', markersize=10)\n",
    "plt.axis('equal')\n",
    "plt.show()"
   ]
  },
  {
   "cell_type": "markdown",
   "id": "06269158",
   "metadata": {},
   "source": [
    "## Basis\n",
    "\n",
    "\n",
    "$\\beta = \\{ \\mathbf{v}_1, \\mathbf{v}_2, \\ldots, \\mathbf{v}_n \\} \\subset \\mathbb{R}^n$ is a basis of $\\mathbb{R}^n$ if\n",
    "* For any $\\mathbf{x} \\in \\mathbb{R}$, there are $c_1, c_2, \\ldots, c_n \\in \\mathbb{R}^n$ such that $\\mathbf{x} = c_1 \\mathbf{v}_1 + c_2 \\mathbf{v}_2 + \\cdots + c_n \\mathbf{v}_n$. In other words, $\\beta$ generates $\\mathbb{R}^n$.\n",
    "* If $\\mathbf{0} = c_1 \\mathbf{v}_1 + c_2 \\mathbf{v}_2 + \\cdots + c_n \\mathbf{v}_n$, then $c_1 = c_2 = \\cdots = c_n = 0$. In other words, $\\beta$ is linearly independent.\n",
    "\n",
    "\n",
    "**Remarks**\n",
    "* If $\\beta \\in \\mathbb{R}^n$ is a basis, there are unique $c_1, c_2, \\ldots, c_n \\in \\mathbb{R}^n$ such that $\\mathbf{x} = c_1 \\mathbf{v}_1 + c_2 \\mathbf{v}_2 + \\cdots + c_n \\mathbf{v}_n$ for any $\\mathbf{x} \\in \\mathbb{R}^n$.\n",
    "* ${\\rm dim} V = n$ if the number of elements in the basis of $V$ is $n$.\n",
    "* If $\\beta$ is orthonormal, $c_i = \\langle \\mathbf{x}, \\mathbf{v}_i \\rangle$\n",
    "* $\\{ \\mathbf{e}_1, \\mathbf{e}_2, \\ldots, \\mathbf{e}_n \\}$ is a cannonical basis, where $e_i = (0,\\ldots,0,1,0,\\ldots, 0 )$. \n",
    "* $\\{\\mathbf{v_1}, \\mathbf{v}_2, \\ldots, \\mathbf{v}_n \\}$ is a basis if $|[\\mathbf{v}_1 \\mathbf{v}_2 \\cdots \\mathbf{v}_n ]|$.\n",
    "\n"
   ]
  },
  {
   "cell_type": "markdown",
   "id": "ccc3f365",
   "metadata": {},
   "source": [
    "**Example**\n",
    "\n",
    "Show that $\\{ (1,1,1), (1,-1,1), (0,0,1) \\}$ is a basis of $\\mathbb{R}^3$. Find $c_1, c_2, c_3$ satisfying that $(3,4,5) = c_1 (1,1,1) + c_2 (1,-1,1) + c_3 (0,0,1)$."
   ]
  },
  {
   "cell_type": "code",
   "execution_count": 4,
   "id": "17ae5254",
   "metadata": {},
   "outputs": [
    {
     "name": "stdout",
     "output_type": "stream",
     "text": [
      "[[ 1  1  0]\n",
      " [ 1 -1  0]\n",
      " [ 1  1  1]]\n",
      "-2.0\n"
     ]
    }
   ],
   "source": [
    "v1 = [1,1,1]\n",
    "v2 = [1,-1,1]\n",
    "v3 = [0,0,1]\n",
    "vs = np.array([v1,v2,v3]).T\n",
    "print(vs)\n",
    "print(np.linalg.det(vs))"
   ]
  },
  {
   "cell_type": "markdown",
   "id": "27cde920",
   "metadata": {},
   "source": [
    "$\\begin{bmatrix} 1 & 1 & 0 \\\\ 1 & -1 & 0 \\\\ 1 & 1 & 1 \\end{bmatrix} \\begin{bmatrix} c_1 \\\\ c_2 \\\\ c_3 \\end{bmatrix} = \\begin{bmatrix} 3 \\\\ 4 \\\\ 5 \\end{bmatrix}$"
   ]
  },
  {
   "cell_type": "code",
   "execution_count": 5,
   "id": "cc2caa3f",
   "metadata": {},
   "outputs": [
    {
     "data": {
      "text/plain": [
       "array([ 3.5, -0.5,  2. ])"
      ]
     },
     "execution_count": 5,
     "metadata": {},
     "output_type": "execute_result"
    }
   ],
   "source": [
    "np.linalg.inv(vs) @ np.array([3,4,5]).T"
   ]
  },
  {
   "cell_type": "code",
   "execution_count": 6,
   "id": "8b9d1ea3",
   "metadata": {},
   "outputs": [
    {
     "data": {
      "text/plain": [
       "array([3., 4., 5.])"
      ]
     },
     "execution_count": 6,
     "metadata": {},
     "output_type": "execute_result"
    }
   ],
   "source": [
    "3.5*np.array(v1) -0.5*np.array(v2) + 2*np.array(v3)"
   ]
  },
  {
   "cell_type": "markdown",
   "id": "735322f3",
   "metadata": {},
   "source": [
    "## Basis representation\n",
    "\n",
    "For a basis $\\beta = \\{ \\mathbf{v}_1, \\ldots, \\mathbf{v}_n \\} \\subset \\mathbb{R}^n$ and a vector $\\mathbf{x} \\in \\mathbb{R}^n$, \n",
    "$$[x]_\\beta = \\begin{bmatrix} c_1 \\\\ c_2 \\\\ \\vdots \\\\ c_n \\end{bmatrix},$$\n",
    "where $c_1, c_2, \\ldots, c_n \\in \\mathbb{R}$ such that $\\mathbf{x} = c_1 \\mathbf{v}_1 + c_2 \\mathbf{v}_2 + \\cdots + c_n \\mathbf{v}_n$."
   ]
  },
  {
   "cell_type": "markdown",
   "id": "8c63c049",
   "metadata": {},
   "source": [
    "## Base Change Matrix\n",
    "\n",
    "\n",
    "Let $\\beta = \\{ \\mathbf{v}_1, \\ldots, \\mathbf{v}_n \\}$, $\\gamma$ be basis of $\\mathbb{R}^n$. Then,\n",
    "$$ [x]_\\gamma = \\begin{bmatrix} [\\mathbf{v}_1]_\\gamma [\\mathbf{v}_2]_\\gamma \\cdots [\\mathbf{v}_n]_\\gamma \\end{bmatrix} [x]_\\beta $$.\n",
    "\n",
    "\n",
    "**Remarks**\n",
    "* We denote $[x]_\\gamma = [\\mathbf{I}]_{\\gamma}^{\\beta} [x]_\\beta$.\n",
    "* $([\\mathbf{I}]_{\\gamma}^{\\beta})^{-1} = [\\mathbf{I}]_{\\beta}^{\\gamma}$."
   ]
  },
  {
   "cell_type": "markdown",
   "id": "60aa3c0e",
   "metadata": {},
   "source": [
    "**Example**\n",
    "\n",
    "\n",
    "Let $\\beta = \\{ (1,0,0), (0,1,0), (0,0,1) \\}$, $\\gamma = \\{ (1,2,3), (4,5,6), (-9,8,7) \\}$, and $\\mathbf{x}= (1,1,1)$. Find $[x]_\\gamma$."
   ]
  },
  {
   "cell_type": "code",
   "execution_count": 7,
   "id": "3e275452",
   "metadata": {},
   "outputs": [
    {
     "name": "stdout",
     "output_type": "stream",
     "text": [
      "[[ 1  2  3]\n",
      " [ 4  5  6]\n",
      " [-9  8  7]]\n",
      "==============================\n",
      "[[ 1  4 -9]\n",
      " [ 2  5  8]\n",
      " [ 3  6  7]]\n",
      "==============================\n",
      "[-0.33333333  0.33333333  0.        ]\n",
      "==============================\n",
      "[[-0.33333333]\n",
      " [ 0.33333333]\n",
      " [ 0.        ]]\n"
     ]
    }
   ],
   "source": [
    "x = np.array([1,1,1])\n",
    "v1 = np.array([1,2,3])\n",
    "v2 = np.array([4,5,6])\n",
    "v3 = np.array([-9,8,7])\n",
    "I_gamma = np.vstack([v1,v2,v3])\n",
    "print(I_gamma)\n",
    "print('='*30)\n",
    "I_gamma = I_gamma.T\n",
    "print(I_gamma)\n",
    "print('='*30)\n",
    "print(np.linalg.inv(I_gamma) @ x)\n",
    "print(\"=\"*30)\n",
    "print(np.linalg.inv(I_gamma) @ x.reshape(-1,1))"
   ]
  },
  {
   "cell_type": "code",
   "execution_count": null,
   "id": "b7da0a46",
   "metadata": {},
   "outputs": [],
   "source": [
    "-v1/3 +v2/3"
   ]
  },
  {
   "cell_type": "markdown",
   "id": "219018e3",
   "metadata": {},
   "source": [
    "## Matrix representation for linear transpomation \n",
    "\n",
    "\n",
    "Let $T :\\mathbb{R}^n \\to \\mathbb{R}^m$ with the basis $\\beta = \\{ \\mathbf{v}_1, \\ldots, \\mathbf{v}_n \\} \\subset \\mathbb{R}^n$ and $\\gamma \\subset \\mathbb{R}^m$. Then, $T = L_{A}$, where\n",
    "$$\n",
    "A = [T]_{\\gamma}^{\\beta} = \\begin{bmatrix} [T(\\mathbf{v}_1)]_\\gamma \\cdots [T(\\mathbf{v}_n )]_\\gamma \\end{bmatrix}.\n",
    "$$\n",
    "In other words, \n",
    "$$\n",
    "[T(\\mathbf{x})]_\\gamma = [T]_{\\gamma}^{\\beta} [\\mathbf{x}]_{\\beta}.\n",
    "$$\n",
    "\n",
    "If $\\beta = \\gamma$, we denote $[T]_\\beta$."
   ]
  },
  {
   "cell_type": "markdown",
   "id": "c9178066",
   "metadata": {},
   "source": [
    "**Example**\n",
    "\n",
    "Let $T: \\mathbb{R}^{3} \\to \\mathbb{R}^{3}$ be defined by  \n",
    "$T((x,y,z)) = (x+y+2z, x+y-z, 3x-3y)$.\n",
    "\n",
    "\n",
    "For $\\beta = \\{ (1,0,0), (0,1,0), (0,0,1) \\}$ and $\\gamma = \\{ (1,0,1), (1,1,0), (3,-2,-5)\\}$, find $[T]_\\beta$ and $[T]_\\gamma$."
   ]
  },
  {
   "cell_type": "code",
   "execution_count": 8,
   "id": "f5ed4481",
   "metadata": {},
   "outputs": [
    {
     "data": {
      "text/plain": [
       "(1, 1, 3)"
      ]
     },
     "execution_count": 8,
     "metadata": {},
     "output_type": "execute_result"
    }
   ],
   "source": [
    "T = lambda x,y,z : (x+y+2*z, x+y-z, 3*x+y)\n",
    "T(1,0,0)"
   ]
  },
  {
   "cell_type": "code",
   "execution_count": 17,
   "id": "cf7e404c",
   "metadata": {},
   "outputs": [],
   "source": [
    "T_beta = np.array([[1,1,3],[1,1,-3], [2,-1,0] ]).T\n"
   ]
  },
  {
   "cell_type": "code",
   "execution_count": 18,
   "id": "c02530ac",
   "metadata": {},
   "outputs": [
    {
     "name": "stdout",
     "output_type": "stream",
     "text": [
      "[3 0 3]\n",
      "[2 2 0]\n",
      "[-9  6 15]\n"
     ]
    }
   ],
   "source": [
    "TT = lambda x : np.dot(T_beta, x)\n",
    "v1 = np.array([1,0,1])\n",
    "v2 = np.array([1,1,0])\n",
    "v3 = np.array([3,-2,-5])\n",
    "print(TT(v1))\n",
    "print(TT(v2))\n",
    "print(TT(v3))"
   ]
  },
  {
   "cell_type": "code",
   "execution_count": 19,
   "id": "cad9d769",
   "metadata": {},
   "outputs": [
    {
     "name": "stdout",
     "output_type": "stream",
     "text": [
      "[5 2 3]\n",
      "[3 2 0]\n"
     ]
    }
   ],
   "source": [
    "T_gamma = np.array([[3,0,0], [0,2,0],[0,0,-3]])\n",
    "TT_gamma = lambda x: np.dot(T_gamma, x)\n",
    "x = np.array([2,1,1])\n",
    "x_beta = x.copy()\n",
    "x_gamma = np.array([1,1,0])\n",
    "print(TT(x_beta))\n",
    "print(TT_gamma (x_gamma))"
   ]
  },
  {
   "cell_type": "code",
   "execution_count": 20,
   "id": "dbb9af92",
   "metadata": {},
   "outputs": [
    {
     "data": {
      "text/plain": [
       "array([5, 2, 3])"
      ]
     },
     "execution_count": 20,
     "metadata": {},
     "output_type": "execute_result"
    }
   ],
   "source": [
    "3*v1+2*v2"
   ]
  },
  {
   "cell_type": "markdown",
   "id": "61e9a941",
   "metadata": {},
   "source": [
    "## Eigenvalues and Eigenvectors\n",
    "\n",
    "\n",
    "Let $\\mathbf{A}$ be a matrix of size $n$. If a non-zero vector $\\mathbf{v}$ satisfies\n",
    "$$ \\mathbf{A}\\mathbf{v} = \\lambda \\mathbf{v} $$\n",
    "for a real number $\\lambda$, then we say $\\lambda$ is an eigenvalue and $\\mathbf{v}$ is an eigenvector of $\\mathbf{A}$ with respect to $\\lambda$.\n",
    "\n",
    "\n",
    "\n",
    "**Remarks**\n",
    "* $\\mathbf{v}_1$ and $\\mathbf{v}_2$ are eigenvectors (w.r.t. $\\lambda$), then $\\mathbf{v}_1 + \\mathbf{v}_2$ and $c \\mathbf{v}_1$ are eigenvectors (w.r.t. $\\lambda$). \n",
    "* Eigenvalue could be zero. \n",
    "* For a linear transformation $T=L_A$, we can say exactly same ways.\n",
    "* We can find $\\lambda$ from ${\\rm det}(\\mathbf{A}-\\lambda \\mathbf{I}_n)=0$ (characterisitic equation).\n",
    "* We can find eigenvectors by solving the homogeneous equation $(\\mathbf{A}-\\lambda \\mathbf{I}_n)\\mathbf{x} = \\mathbf{0}$"
   ]
  },
  {
   "cell_type": "markdown",
   "id": "2c4fc603",
   "metadata": {},
   "source": [
    "**Example**\n",
    "\n",
    "Find eigenvalues and eigenvectors for\n",
    "$\\begin{bmatrix}\n",
    "1 & 1 & 2 \\\\\n",
    "1 & 1 & -1 \\\\\n",
    "3 & -3 & 0\n",
    "\\end{bmatrix}$."
   ]
  },
  {
   "cell_type": "code",
   "execution_count": null,
   "id": "c9c4e062",
   "metadata": {},
   "outputs": [],
   "source": [
    "A = np.array([[1,1,3],[1,1,-3], [2,-1,0] ]).T\n",
    "print(np.linalg.eig(A))\n",
    "las, evs = np.linalg.eig(A) # columns of evs are eigenvectors\n"
   ]
  },
  {
   "cell_type": "code",
   "execution_count": null,
   "id": "3c4be7fe",
   "metadata": {},
   "outputs": [],
   "source": [
    "print(np.dot(A, evs[:,0]) - (-3*evs[:,0]))\n",
    "print(np.dot(A, evs[:,1]) - (3*evs[:,1]))\n",
    "print(np.dot(A, evs[:,2]) - (2*evs[:,2]))"
   ]
  },
  {
   "cell_type": "markdown",
   "id": "754c12f4",
   "metadata": {},
   "source": [
    "## Diagonalization\n",
    "\n",
    "If $\\gamma$ is a basis consisting of eigenvectors of $\\mathbf{A}$, then \n",
    "\n",
    "\n",
    "$$\n",
    "\\mathbf{A} =[T]_\\beta =   [\\mathbf{I}]_{\\beta}^{\\gamma} [T]_\\gamma \\mathbf{I}]_{\\gamma}^{\\beta},\n",
    "$$\n",
    "where $\\beta$ is the standard basis.\n",
    "\n",
    "**Remarks**\n",
    "* Diagram \n",
    "* We say $[T]_\\beta$ is diagonalizable.\n",
    "* We say $[T]_\\beta$ and $[T]_\\gamma$ are similar. \n",
    "* When $A$ is symmetric, then $A$ is diagonalizable. Moreover, $[\\mathbf[I]_\\beta^\\gamma$ can be chosen to be orthogonal."
   ]
  },
  {
   "cell_type": "markdown",
   "id": "d0de327f",
   "metadata": {},
   "source": [
    "**Example**\n",
    "\n",
    "Find a diagonalization for\n",
    "$\\begin{bmatrix}\n",
    "1 & 1 & 2 \\\\\n",
    "1 & 1 & -1 \\\\\n",
    "3 & -3 & 0\n",
    "\\end{bmatrix}$."
   ]
  },
  {
   "cell_type": "code",
   "execution_count": null,
   "id": "7b44b34c",
   "metadata": {},
   "outputs": [],
   "source": [
    "D = np.diag(las)\n",
    "D"
   ]
  },
  {
   "cell_type": "code",
   "execution_count": null,
   "id": "f0580c1d",
   "metadata": {},
   "outputs": [],
   "source": [
    "Q = evs.copy()\n",
    "Q @ D @ np.linalg.inv(Q)"
   ]
  },
  {
   "cell_type": "markdown",
   "id": "b0498fac",
   "metadata": {},
   "source": [
    "**Example**\n",
    "\n",
    "Find a diagonalization of the matrix \n",
    "$$\\mathbf{A} = \\begin{bmatrix} 2 & -1 \\\\ -1 & 3 \\end{bmatrix}$$"
   ]
  },
  {
   "cell_type": "code",
   "execution_count": null,
   "id": "295133de",
   "metadata": {},
   "outputs": [],
   "source": [
    "A = np.array([[2,-1],[-1,3]])\n",
    "las, Q = np.linalg.eig(A)\n",
    "print(\"eigenvalues are %s\" %las)\n",
    "print(\"eigenvectors are\")\n",
    "print(Q)"
   ]
  },
  {
   "cell_type": "code",
   "execution_count": null,
   "id": "ece07959",
   "metadata": {},
   "outputs": [],
   "source": [
    "np.dot(Q[:,0],Q[:,1])"
   ]
  },
  {
   "cell_type": "code",
   "execution_count": null,
   "id": "836775b8",
   "metadata": {},
   "outputs": [],
   "source": [
    "Q @ np.diag(las) @ np.linalg.inv(Q)"
   ]
  },
  {
   "cell_type": "code",
   "execution_count": null,
   "id": "45f01af0",
   "metadata": {},
   "outputs": [],
   "source": []
  }
 ],
 "metadata": {
  "kernelspec": {
   "display_name": "Python 3 (ipykernel)",
   "language": "python",
   "name": "python3"
  },
  "language_info": {
   "codemirror_mode": {
    "name": "ipython",
    "version": 3
   },
   "file_extension": ".py",
   "mimetype": "text/x-python",
   "name": "python",
   "nbconvert_exporter": "python",
   "pygments_lexer": "ipython3",
   "version": "3.9.7"
  }
 },
 "nbformat": 4,
 "nbformat_minor": 5
}
