{
 "cells": [
  {
   "cell_type": "markdown",
   "metadata": {
    "id": "ESP9tJ5Sm4Hp"
   },
   "source": [
    "# Quiz 3\n",
    "\n",
    "- 넘파이와 벡터 내적을 이용하여 순전파 신경망의 값을 출력하라.\n",
    "- 빈칸을 채우시오\n",
    "- 또한 에러를 수정하라\n",
    "- 피드포워드 값 6개를 출력하는 함수 완성하시오\n",
    "- 게시판에 올리길 바랍니다."
   ]
  },
  {
   "cell_type": "code",
   "execution_count": 1,
   "metadata": {
    "id": "18ZE3VGBnfTo"
   },
   "outputs": [],
   "source": [
    "# 필요한 함수: 시그모이드 함수\n",
    "import numpy as np\n",
    "def sigmoid(x):\n",
    "    return 1 / (1 + np.exp(-x))"
   ]
  },
  {
   "cell_type": "code",
   "execution_count": 16,
   "metadata": {
    "colab": {
     "base_uri": "https://localhost:8080/"
    },
    "id": "v8xQrxvjmz7M",
    "outputId": "f9182595-584a-4cfa-eb49-8ff83dd9383f"
   },
   "outputs": [
    {
     "data": {
      "text/plain": [
       "array([0.50619256])"
      ]
     },
     "execution_count": 16,
     "metadata": {},
     "output_type": "execute_result"
    }
   ],
   "source": [
    "import numpy as np\n",
    "W1 = np.array([[0.05, -0.01, 0.02], [0.01, 0.03, -0.01]])\n",
    "b1 = np.array([-0.3, 0.2, 0.05])\n",
    "W2 = np.array([0.01, 0.05, 0.015])\n",
    "b2 = np.array([-0.015])\n",
    "x1 = [0.2, 0.9]\n",
    "a1 = np.dot(x1, W1) + b1\n",
    "z1 = sigmoid(a1)\n",
    "a2 = np.dot(z1, W2) + b2\n",
    "y = sigmoid(a2)\n",
    "y"
   ]
  },
  {
   "cell_type": "code",
   "execution_count": 11,
   "metadata": {
    "colab": {
     "base_uri": "https://localhost:8080/"
    },
    "id": "Y6tFLFxsm3en",
    "outputId": "6fd4e836-507b-4165-8d8c-17143620c7d8"
   },
   "outputs": [
    {
     "name": "stdout",
     "output_type": "stream",
     "text": [
      "[0.50619256]\n",
      "[0.50611917]\n",
      "[0.50614786]\n",
      "[0.50615681]\n",
      "[0.5061605]\n",
      "[0.50618548]\n"
     ]
    }
   ],
   "source": [
    "def feedforward(x):\n",
    "    a1 = np.dot(x, W1) + b1\n",
    "    z1 = sigmoid(a1)\n",
    "    a2 = np.dot(z1, W2) + b2\n",
    "    y = sigmoid(a2)\n",
    "    return y\n",
    "\n",
    "data=[[0.2,0.9],[0.1,0.1],[0.2,0.4],[0.2,0.5],[0.4,0.5],[0.3,0.8]]\n",
    "\n",
    "for i in data:\n",
    "    output = feedforward(i)\n",
    "    print(output)\n",
    "\n",
    " #피드포워드 값 6개를 출력하시오\n"
   ]
  },
  {
   "cell_type": "code",
   "execution_count": 20,
   "metadata": {},
   "outputs": [
    {
     "name": "stdout",
     "output_type": "stream",
     "text": [
      "[0.50619256]\n",
      "[0.50611917]\n",
      "[0.50614786]\n",
      "[0.50615681]\n",
      "[0.5061605]\n",
      "[0.50618548]\n"
     ]
    }
   ],
   "source": [
    "def feedforward(x):\n",
    "    a1 = np.dot(x, W1) + b1\n",
    "    z1 = sigmoid(a1)\n",
    "    a2 = np.dot(z1, W2) + b2\n",
    "    y = sigmoid(a2)\n",
    "    return y\n",
    "\n",
    "data = [[0.2, 0.9], [0.1, 0.1], [0.2, 0.4], [0.2, 0.5], [0.4, 0.5], [0.3, 0.8]]\n",
    "\n",
    "for i in data:\n",
    "    output = feedforward(i)\n",
    "    print(output)"
   ]
  },
  {
   "cell_type": "code",
   "execution_count": null,
   "metadata": {},
   "outputs": [],
   "source": []
  }
 ],
 "metadata": {
  "colab": {
   "provenance": []
  },
  "kernelspec": {
   "display_name": "Python 3 (ipykernel)",
   "language": "python",
   "name": "python3"
  },
  "language_info": {
   "codemirror_mode": {
    "name": "ipython",
    "version": 3
   },
   "file_extension": ".py",
   "mimetype": "text/x-python",
   "name": "python",
   "nbconvert_exporter": "python",
   "pygments_lexer": "ipython3",
   "version": "3.9.7"
  }
 },
 "nbformat": 4,
 "nbformat_minor": 1
}
