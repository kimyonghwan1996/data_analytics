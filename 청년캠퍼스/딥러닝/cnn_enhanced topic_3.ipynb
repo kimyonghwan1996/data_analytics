{
 "cells": [
  {
   "cell_type": "markdown",
   "id": "b7544277",
   "metadata": {},
   "source": [
    "##  IMDB 영화 리뷰"
   ]
  },
  {
   "cell_type": "markdown",
   "id": "6061b9f5",
   "metadata": {},
   "source": [
    "이 코드는 IMDB 영화 리뷰 데이터셋을 로드하고, 각 리뷰를 500 단어로 패딩한 후, 1D CNN을 사용하여 리뷰가 긍정적인지 부정적인지 분류합니다. 'Embedding' 레이어는 각 단어를 50차원의 벡터로 임베딩하고, 'Conv1D' 레이어는 임베딩된 단어 벡터들에 대해 1차원 합성곱을 수행합니다. 그 다음, 'GlobalMaxPooling1D' 레이어는 각 필터의 최대값을 추출하여 고정된 크기의 벡터를 생성합니다. 마지막으로, 'Dense' 레이어를 사용하여 분류를 수행합니다."
   ]
  },
  {
   "cell_type": "code",
   "execution_count": 3,
   "id": "9c1b6df1",
   "metadata": {},
   "outputs": [
    {
     "name": "stdout",
     "output_type": "stream",
     "text": [
      "훈련용 리뷰 개수 : 25000\n",
      "테스트용 리뷰 개수 : 25000\n",
      "카테고리 : 2\n",
      "리뷰의 최대 길이 : 2494\n",
      "리뷰의 평균 길이 : 238.71364\n"
     ]
    },
    {
     "data": {
      "image/png": "[encoded data removed]",
      "text/plain": [
       "<Figure size 640x480 with 2 Axes>"
      ]
     },
     "metadata": {},
     "output_type": "display_data"
    }
   ],
   "source": [
    "from keras.datasets import imdb\n",
    "from keras.preprocessing import sequence\n",
    "from keras.models import Sequential\n",
    "from keras.layers import Dense, Embedding, GlobalMaxPooling1D, Conv1D\n",
    "import matplotlib.pyplot as plt\n",
    "\n",
    "# 단어 사전의 크기 (10,000개의 단어)\n",
    "vocabulary_size = 10000\n",
    "\n",
    "# 최대 문장 길이 (각 문장의 단어 수)\n",
    "max_len = 500\n",
    "\n",
    "# IMDB 영화 리뷰 데이터 로드\n",
    "(X_train, y_train), (X_test, y_test) = imdb.load_data(num_words=vocabulary_size)\n",
    "\n",
    "print('훈련용 리뷰 개수 : {}'.format(len(X_train)))\n",
    "print('테스트용 리뷰 개수 : {}'.format(len(X_test)))\n",
    "num_classes = len(set(y_train))\n",
    "print('카테고리 : {}'.format(num_classes))\n",
    "reviews_length = [len(review) for review in X_train]\n",
    "\n",
    "print('리뷰의 최대 길이 : {}'.format(np.max(reviews_length)))\n",
    "print('리뷰의 평균 길이 : {}'.format(np.mean(reviews_length)))\n",
    "\n",
    "plt.subplot(1,2,1)\n",
    "plt.boxplot(reviews_length)\n",
    "plt.subplot(1,2,2)\n",
    "plt.hist(reviews_length, bins=50)\n",
    "plt.show()\n",
    "\n",
    "\n",
    "\n"
   ]
  },
  {
   "cell_type": "markdown",
   "id": "47b54938",
   "metadata": {},
   "source": [
    "### 문장 패딩(Padding):\n",
    "sequence.pad_sequences 함수는 문장(즉, 단어의 시퀀스)의 길이를 동일하게 맞추는 역할을 합니다. 이는 모든 입력 피쳐가 동일한 길이를 가져야하는 신경망 모델에 필요한 전처리 과정입니다. maxlen 인자에 지정된 길이보다 긴 문장은 잘라내고, 짧은 문장은 0으로 채워서 길이를 맞춥니다.\n",
    "\n",
    "### Embedding 레이어:\n",
    "Embedding 레이어는 각 단어를 고차원의 실수 벡터로 변환하는 역할을 합니다. 이렇게 변환된 벡터는 단어 간의 유사도를 계산하는 데 사용되며, 단어 간의 문맥을 학습하는 데 도움이 됩니다. 여기서는 단어의 임베딩 크기를 50으로 설정하였습니다.\n",
    "\n",
    "### Conv1D 레이어:\n",
    "Conv1D 레이어는 1차원 컨볼루션 레이어로, 임베딩된 단어 벡터의 문맥 정보를 학습하는 데 사용됩니다. 컨볼루션 레이어는 일련의 필터를 사용하여 입력 데이터의 특징을 학습하며, 이러한 특징은 문장을 분류하는 데 중요한 정보를 제공합니다.\n",
    "\n",
    "### GlobalMaxPooling1D 레이어:\n",
    "GlobalMaxPooling1D 레이어는 각 피쳐 맵(feature map)에서 가장 큰 값을 취하는 역할을 합니다. 이 레이어를 통해 컨볼루션 레이어의 출력 크기를 줄이고, 가장 중요한 피쳐만을 추출할 수 있습니다.\n",
    "\n",
    "### Dense 레이어:\n",
    "Dense 레이어는 전결합층(fully-connected layer)으로, 각 뉴런이 이전 레이어의 모든 뉴런과 연결되어 있습니다. 마지막 Dense 레이어에서는 sigmoid 활성화 함수를 사용하여 최종 출력을 0과 1 사이의 값으로 변환합니다. 이 값은 이진 분류 문제에서 각 클래스에 속할 확률을 나타냅니다.\n",
    "\n",
    "### 모델 컴파일:\n",
    "마지막으로 compile 함수를 사용하여 모델을 컴파일합니다. 여기서는 adam 최적화 알고리즘을 사용하고, 손실 함수로는 binary_crossentropy를 사용합니다. binary_crossentropy는 이진 분류 문제에서 주로 사용되는 손실 함수입니다. 또한, 학습 도중에 정확도를 기록하기 위해 accuracy 지표를 사용합니다."
   ]
  },
  {
   "cell_type": "code",
   "execution_count": 4,
   "id": "d79708c2",
   "metadata": {},
   "outputs": [
    {
     "name": "stdout",
     "output_type": "stream",
     "text": [
      "500\n"
     ]
    }
   ],
   "source": [
    "# 문장(즉, 단어의 시퀀스)의 길이를 동일하게 맞추는 역할\n",
    "X_train = sequence.pad_sequences(X_train, maxlen=max_len)\n",
    "X_test = sequence.pad_sequences(X_test, maxlen=max_len)\n",
    "print(len(X_train[0]))\n",
    "\n",
    "# 모델 구성\n",
    "model = Sequential()\n",
    "model.add(Embedding(vocabulary_size, 50, input_length=max_len))\n",
    "model.add(Conv1D(250, 3, padding='valid', activation='relu', strides=1))\n",
    "model.add(GlobalMaxPooling1D())\n",
    "model.add(Dense(250, activation='relu'))\n",
    "model.add(Dense(1, activation='sigmoid'))\n",
    "\n",
    "# 모델 컴파일\n",
    "model.compile(optimizer='adam', loss='binary_crossentropy', metrics=['accuracy'])\n"
   ]
  },
  {
   "cell_type": "code",
   "execution_count": null,
   "id": "bd40acdc",
   "metadata": {},
   "outputs": [],
   "source": []
  },
  {
   "cell_type": "code",
   "execution_count": null,
   "id": "2b24c93d",
   "metadata": {},
   "outputs": [],
   "source": []
  },
  {
   "cell_type": "code",
   "execution_count": 5,
   "id": "86f81039",
   "metadata": {},
   "outputs": [
    {
     "name": "stdout",
     "output_type": "stream",
     "text": [
      "Epoch 1/2\n",
      "196/196 [==============================] - 23s 116ms/step - loss: 0.4523 - accuracy: 0.7700 - val_loss: 0.2764 - val_accuracy: 0.8846\n",
      "Epoch 2/2\n",
      "196/196 [==============================] - 23s 116ms/step - loss: 0.2059 - accuracy: 0.9218 - val_loss: 0.2789 - val_accuracy: 0.8850\n"
     ]
    },
    {
     "data": {
      "text/plain": [
       "<keras.src.callbacks.History at 0x16401b06f50>"
      ]
     },
     "execution_count": 5,
     "metadata": {},
     "output_type": "execute_result"
    }
   ],
   "source": [
    "# 모델 훈련\n",
    "model.fit(X_train, y_train, validation_data=(X_test, y_test), epochs=2, batch_size=128)"
   ]
  },
  {
   "cell_type": "code",
   "execution_count": 28,
   "id": "4a99f418",
   "metadata": {},
   "outputs": [
    {
     "data": {
      "text/plain": [
       "array([1, 0, 0, ..., 0, 1, 0], dtype=int64)"
      ]
     },
     "execution_count": 28,
     "metadata": {},
     "output_type": "execute_result"
    }
   ],
   "source": [
    "X_train.shape, y_train.shape, X_test.shape, y_test.shape\n",
    "X_train[0]\n",
    "y_train[:]"
   ]
  },
  {
   "cell_type": "code",
   "execution_count": 6,
   "id": "f03e599a",
   "metadata": {},
   "outputs": [
    {
     "name": "stdout",
     "output_type": "stream",
     "text": [
      "782/782 - 5s - loss: 0.2789 - accuracy: 0.8850 - 5s/epoch - 7ms/step\n",
      "\n",
      "Test accuracy: 0.8849999904632568\n"
     ]
    }
   ],
   "source": [
    "test_loss, test_acc = model.evaluate(X_test,  y_test, verbose=2)\n",
    "print('\\nTest accuracy:', test_acc)"
   ]
  },
  {
   "cell_type": "code",
   "execution_count": 7,
   "id": "bddb5d74",
   "metadata": {},
   "outputs": [
    {
     "name": "stdout",
     "output_type": "stream",
     "text": [
      "Model: \"sequential_1\"\n",
      "_________________________________________________________________\n",
      " Layer (type)                Output Shape              Param #   \n",
      "=================================================================\n",
      " embedding_1 (Embedding)     (None, 500, 50)           500000    \n",
      "                                                                 \n",
      " conv1d_1 (Conv1D)           (None, 498, 250)          37750     \n",
      "                                                                 \n",
      " global_max_pooling1d_1 (Gl  (None, 250)               0         \n",
      " obalMaxPooling1D)                                               \n",
      "                                                                 \n",
      " dense_2 (Dense)             (None, 250)               62750     \n",
      "                                                                 \n",
      " dense_3 (Dense)             (None, 1)                 251       \n",
      "                                                                 \n",
      "=================================================================\n",
      "Total params: 600751 (2.29 MB)\n",
      "Trainable params: 600751 (2.29 MB)\n",
      "Non-trainable params: 0 (0.00 Byte)\n",
      "_________________________________________________________________\n"
     ]
    }
   ],
   "source": [
    "model.summary()"
   ]
  },
  {
   "cell_type": "code",
   "execution_count": 8,
   "id": "8f0f8c5d",
   "metadata": {},
   "outputs": [],
   "source": [
    "import re\n",
    "\n",
    "word_to_index = imdb.get_word_index()\n",
    "index_to_word = {}\n",
    "for key, value in word_to_index.items():\n",
    "    index_to_word[value+3] = key\n",
    "    \n",
    "    \n",
    "def sentiment_predict(new_sentence):\n",
    "  # 알파벳과 숫자를 제외하고 모두 제거 및 알파벳 소문자화\n",
    "  new_sentence = re.sub('[^0-9a-zA-Z ]', '', new_sentence).lower()\n",
    "  encoded = []\n",
    "\n",
    "  # 띄어쓰기 단위 토큰화 후 정수 인코딩\n",
    "  for word in new_sentence.split():\n",
    "    try :\n",
    "      # 단어 집합의 크기를 10,000으로 제한.\n",
    "      if word_to_index[word] <= 10000:\n",
    "        encoded.append(word_to_index[word]+3)\n",
    "      else:\n",
    "      # 10,000 이상의 숫자는 <unk> 토큰으로 변환.\n",
    "        encoded.append(2)\n",
    "    # 단어 집합에 없는 단어는 <unk> 토큰으로 변환.\n",
    "    except KeyError:\n",
    "      encoded.append(2)\n",
    "\n",
    "  pad_sequence = sequence.pad_sequences([encoded], maxlen=max_len)\n",
    "  score = float(model.predict(pad_sequence)) # 예측\n",
    "\n",
    "  if(score > 0.5):\n",
    "    print(\"{:.2f}% 확률로 긍정 리뷰입니다.\".format(score * 100))\n",
    "  else:\n",
    "    print(\"{:.2f}% 확률로 부정 리뷰입니다.\".format((1 - score) * 100))"
   ]
  },
  {
   "cell_type": "code",
   "execution_count": 9,
   "id": "8eb98aec",
   "metadata": {},
   "outputs": [
    {
     "name": "stdout",
     "output_type": "stream",
     "text": [
      "1/1 [==============================] - 0s 65ms/step\n",
      "97.89% 확률로 부정 리뷰입니다.\n"
     ]
    },
    {
     "name": "stderr",
     "output_type": "stream",
     "text": [
      "C:\\Users\\yuko\\AppData\\Local\\Temp\\ipykernel_9244\\2256009179.py:28: DeprecationWarning: Conversion of an array with ndim > 0 to a scalar is deprecated, and will error in future. Ensure you extract a single element from your array before performing this operation. (Deprecated NumPy 1.25.)\n",
      "  score = float(model.predict(pad_sequence)) # 예측\n"
     ]
    }
   ],
   "source": [
    "test_input = \"This movie was just way too overrated. The fighting was not professional and in slow motion. I was expecting more from a 200 million budget movie. The little sister of T.Challa was just trying too hard to be funny. The story was really dumb as well. Don't watch this movie if you are going because others say its great unless you are a Black Panther fan or Marvels fan.\"\n",
    "# test_input =\"this film was just brilliant casting location scenery story direction everyone's really suited the part they played and you could just imagine being there robert <unk> is an amazing actor and now the same being director <unk> father came from the same scottish island as myself so i loved the fact there was a real connection with this film the witty remarks throughout the film were great it was just brilliant so much that i bought the film as soon as it was released for <unk> and would recommend it to everyone to watch and the fly fishing was amazing really cried at the end it was so sad and you know what they say if you cry at a film it must have been good and this definitely was also <unk> to the two little boy's that played the <unk> of norman and paul they were just brilliant children are often left out of the <unk> list i think because the stars that play them all grown up are such a big profile for the whole film but these children are amazing and should be praised for what they have done don't you think the whole story was so lovely because it was true and was someone's life after all that was shared with us all\"\n",
    "# test_input = \"This movie was just way too overrated. The fighting was not professional and in slow motion. I was expecting more from a 200 million budget movie. The little sister of T.Challa was just trying too hard to be funny. The story was really dumb as well. Don't watch this movie if you are going because others say its great unless you are a Black Panther fan or Marvels fan.\"\n",
    "\n",
    "sentiment_predict(test_input)"
   ]
  },
  {
   "cell_type": "code",
   "execution_count": 10,
   "id": "3b90f38e",
   "metadata": {},
   "outputs": [
    {
     "data": {
      "text/plain": [
       "'and'"
      ]
     },
     "execution_count": 10,
     "metadata": {},
     "output_type": "execute_result"
    }
   ],
   "source": [
    "index_to_word[5]\n",
    "# word_to_index['the']"
   ]
  },
  {
   "cell_type": "markdown",
   "id": "31fbf686",
   "metadata": {},
   "source": [
    "## 코드 분석\n",
    "\n",
    "### 데이터 준비:\n",
    "\n",
    "```python\n",
    "from keras.datasets import imdb\n",
    "from keras.preprocessing import sequence\n",
    "\n",
    "# 단어 사전의 크기 (10,000개의 단어)\n",
    "vocabulary_size = 10000\n",
    "\n",
    "# 최대 문장 길이 (각 문장의 단어 수)\n",
    "max_len = 500\n",
    "\n",
    "# IMDB 영화 리뷰 데이터 로드\n",
    "(X_train, y_train), (X_test, y_test) = imdb.load_data(num_words=vocabulary_size)\n",
    "\n",
    "# 문장들을 같은 길이로 맞춰줍니다 (문장 패딩)\n",
    "\n",
    "X_train = sequence.pad_sequences(X_train, maxlen=max_len)\n",
    "X_test = sequence.pad_sequences(X_test, maxlen=max_len)\n",
    "```\n",
    "\n",
    "이 부분에서는 IMDB 데이터셋을 로드하고, 리뷰를 일정한 길이로 맞추는 작업을 수행합니다. 데이터는 훈련 세트(X_train, y_train)과 테스트 세트(X_test, y_test)로 분리됩니다. 텍스트 데이터는 일반적으로 가변적인 길이를 가지기 때문에, 이를 일정한 길이로 맞추는 패딩 작업이 필요합니다."
   ]
  },
  {
   "cell_type": "markdown",
   "id": "b3884bda",
   "metadata": {},
   "source": [
    "### 모델 구성\n",
    "```python\n",
    "from keras.models import Sequential\n",
    "from keras.layers import Dense, Embedding, GlobalMaxPooling1D, Conv1D\n",
    "\n",
    "model = Sequential()\n",
    "model.add(Embedding(vocabulary_size, 50, input_length=max_len))\n",
    "model.add(Conv1D(250, 3, padding='valid', activation='relu', strides=1))\n",
    "model.add(GlobalMaxPooling1D())\n",
    "model.add(Dense(250, activation='relu'))\n",
    "model.add(Dense(1, activation='sigmoid'))\n",
    "```\n",
    "이 부분에서는 Keras를 사용하여 모델을 구성합니다. 먼저, Embedding 레이어를 사용하여 각 단어를 50차원의 벡터로 임베딩합니다. 그 다음, Conv1D 레이어를 사용하여 임베딩된 단어 벡터들에 대해 1차원 합성곱을 수행합니다. GlobalMaxPooling1D 레이어는 각 필터의 최대값을 추출하여 고정된 크기의 벡터를 생성합니다. 이후에는 Dense 레이어를 사용하여 분류를 수행합니다.\n"
   ]
  },
  {
   "cell_type": "markdown",
   "id": "0e67c81b",
   "metadata": {},
   "source": [
    "### 모델 훈련\n",
    "```python\n",
    "model.compile(optimizer='adam', loss='binary_crossentropy', metrics=['accuracy'])\n",
    "\n",
    "model.fit(X_train, y_train, validation_data=(X_test, y_test), epochs=2, batch_size=128)\n",
    "\n",
    "```\n",
    "\n",
    "모델을 컴파일하고 훈련하는 단계입니다. 여기서는 'adam' 옵티마이저를 사용하고, 손실 함수로는 이진 크로스 엔트로피를 사용합니다. 그리고 'accuracy'를 측정 지표로 설정하여 모델의 성능을 평가합니다. 이후 model.fit() 함수를 사용하여 모델을 훈련시킵니다. 이 함수는 입력 데이터와 그에 상응하는 타깃 레이블을 받아서 모델을 훈련시킵니다. 'validation_data' 인수로 테스트 데이터를 전달하여 모델의 성능을 각 에포크마다 평가합니다.\n",
    "\n",
    "총적으로, 이 코드는 텍스트 데이터를 받아서 이를 벡터로 변환한 후, 1차원 합성곱 네트워크(CNN)를 통해 텍스트를 분류하는 작업을 수행합니다. 이 방법은 문장이나 문서의 긍정/부정과 같은 감정을 분류하는 감성 분석에 많이 사용됩니다."
   ]
  },
  {
   "cell_type": "code",
   "execution_count": 84,
   "id": "0f348084",
   "metadata": {},
   "outputs": [
    {
     "name": "stdout",
     "output_type": "stream",
     "text": [
      "Model: \"sequential_18\"\n",
      "_________________________________________________________________\n",
      " Layer (type)                Output Shape              Param #   \n",
      "=================================================================\n",
      " embedding_14 (Embedding)    (None, 500, 50)           500000    \n",
      "                                                                 \n",
      " conv1d_14 (Conv1D)          (None, 498, 250)          37750     \n",
      "                                                                 \n",
      " global_max_pooling1d_14 (G  (None, 250)               0         \n",
      " lobalMaxPooling1D)                                              \n",
      "                                                                 \n",
      " dense_36 (Dense)            (None, 250)               62750     \n",
      "                                                                 \n",
      " dense_37 (Dense)            (None, 1)                 251       \n",
      "                                                                 \n",
      "=================================================================\n",
      "Total params: 600751 (2.29 MB)\n",
      "Trainable params: 600751 (2.29 MB)\n",
      "Non-trainable params: 0 (0.00 Byte)\n",
      "_________________________________________________________________\n"
     ]
    }
   ],
   "source": [
    "model.summary()"
   ]
  },
  {
   "cell_type": "code",
   "execution_count": null,
   "id": "692aca34",
   "metadata": {},
   "outputs": [],
   "source": []
  }
 ],
 "metadata": {
  "kernelspec": {
   "display_name": "Python 3 (ipykernel)",
   "language": "python",
   "name": "python3"
  },
  "language_info": {
   "codemirror_mode": {
    "name": "ipython",
    "version": 3
   },
   "file_extension": ".py",
   "mimetype": "text/x-python",
   "name": "python",
   "nbconvert_exporter": "python",
   "pygments_lexer": "ipython3",
   "version": "3.11.3"
  },
  "toc": {
   "base_numbering": 1,
   "nav_menu": {},
   "number_sections": true,
   "sideBar": true,
   "skip_h1_title": false,
   "title_cell": "Table of Contents",
   "title_sidebar": "Contents",
   "toc_cell": false,
   "toc_position": {},
   "toc_section_display": true,
   "toc_window_display": false
  },
  "varInspector": {
   "cols": {
    "lenName": 16,
    "lenType": 16,
    "lenVar": 40
   },
   "kernels_config": {
    "python": {
     "delete_cmd_postfix": "",
     "delete_cmd_prefix": "del ",
     "library": "var_list.py",
     "varRefreshCmd": "print(var_dic_list())"
    },
    "r": {
     "delete_cmd_postfix": ") ",
     "delete_cmd_prefix": "rm(",
     "library": "var_list.r",
     "varRefreshCmd": "cat(var_dic_list()) "
    }
   },
   "types_to_exclude": [
    "module",
    "function",
    "builtin_function_or_method",
    "instance",
    "_Feature"
   ],
   "window_display": false
  }
 },
 "nbformat": 4,
 "nbformat_minor": 5
}
