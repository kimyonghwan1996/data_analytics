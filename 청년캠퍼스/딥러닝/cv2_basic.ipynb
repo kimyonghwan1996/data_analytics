{
 "cells": [
  {
   "cell_type": "code",
   "execution_count": 2,
   "id": "16d71b4f",
   "metadata": {},
   "outputs": [],
   "source": [
    "import cv2\n",
    "import numpy as np\n"
   ]
  },
  {
   "cell_type": "code",
   "execution_count": 3,
   "id": "99d1d63c",
   "metadata": {},
   "outputs": [
    {
     "data": {
      "text/plain": [
       "'4.8.0'"
      ]
     },
     "execution_count": 3,
     "metadata": {},
     "output_type": "execute_result"
    }
   ],
   "source": [
    "cv2.__version__\n"
   ]
  },
  {
   "cell_type": "code",
   "execution_count": 4,
   "id": "8a6da70c",
   "metadata": {},
   "outputs": [],
   "source": [
    "img = cv2.imread(\"dog1.jpg\")"
   ]
  },
  {
   "cell_type": "code",
   "execution_count": 5,
   "id": "c0325d4b",
   "metadata": {},
   "outputs": [],
   "source": [
    "gray = cv2.cvtColor(img, cv2.COLOR_BGR2GRAY)"
   ]
  },
  {
   "cell_type": "code",
   "execution_count": 6,
   "id": "d6487766",
   "metadata": {},
   "outputs": [],
   "source": [
    "cv2.imshow(\"dog\", img)\n",
    "cv2.imshow(\"dog -gray\", gray)\n",
    "cv2.waitKey(0)\n",
    "cv2.destroyAllWindows()"
   ]
  },
  {
   "cell_type": "code",
   "execution_count": 7,
   "id": "926bcae2",
   "metadata": {},
   "outputs": [
    {
     "data": {
      "text/plain": [
       "(599, 630, 3)"
      ]
     },
     "execution_count": 7,
     "metadata": {},
     "output_type": "execute_result"
    }
   ],
   "source": [
    "img.shape"
   ]
  },
  {
   "cell_type": "code",
   "execution_count": 8,
   "id": "d9a3c6b3",
   "metadata": {},
   "outputs": [
    {
     "name": "stdout",
     "output_type": "stream",
     "text": [
      "6 7 9\n"
     ]
    }
   ],
   "source": [
    "(b, g, r ) = img[0,0]\n",
    "print(r, g, b)"
   ]
  },
  {
   "cell_type": "code",
   "execution_count": 9,
   "id": "f28e132e",
   "metadata": {},
   "outputs": [
    {
     "name": "stdout",
     "output_type": "stream",
     "text": [
      "[9 7 6]\n"
     ]
    }
   ],
   "source": [
    "print(img[0,0])"
   ]
  },
  {
   "cell_type": "code",
   "execution_count": 23,
   "id": "d5185005",
   "metadata": {},
   "outputs": [],
   "source": [
    "sub = img[130:290, 140:390]\n",
    "cv2.imshow(\"dog-sub\", sub)\n",
    "cv2.waitKey(0)\n",
    "cv2.destroyAllWindows()\n"
   ]
  },
  {
   "cell_type": "code",
   "execution_count": null,
   "id": "cdb15d05",
   "metadata": {},
   "outputs": [],
   "source": []
  },
  {
   "cell_type": "code",
   "execution_count": 22,
   "id": "0f03bf39",
   "metadata": {},
   "outputs": [],
   "source": [
    "cv2.rectangle(img, (20,20), (500, 500), (100,100,100), 5)\n",
    "cv2.imshow(\"dog\", img)\n",
    "cv2.waitKey(0)\n",
    "cv2.destroyAllWindows()"
   ]
  },
  {
   "cell_type": "code",
   "execution_count": 21,
   "id": "7c2c9ccc",
   "metadata": {},
   "outputs": [],
   "source": [
    "img = cv2.imread(\"dog1.jpg\")\n",
    "cv2.circle(img, (250,250), 25, (0,244,255), 15)\n",
    "cv2.line(img, (20,20), (500, 500), (100,100,100), 5)\n",
    "cv2.putText(img, \"hello world\", (300,300), cv2.FONT_HERSHEY_SIMPLEX, 1, (255,255,255), 4)\n",
    "cv2.imshow(\"dog\", img)\n",
    "cv2.waitKey(0)\n",
    "cv2.destroyAllWindows()"
   ]
  },
  {
   "cell_type": "code",
   "execution_count": 20,
   "id": "db64d7fa",
   "metadata": {},
   "outputs": [
    {
     "name": "stdout",
     "output_type": "stream",
     "text": [
      "(315, 299)\n"
     ]
    }
   ],
   "source": [
    "img = cv2.imread(\"dog1.jpg\")\n",
    "(height, width) = img.shape[:2]\n",
    "center = (width//2, height//2)\n",
    "print(center)\n",
    "move=np.float32([[1,0, 100], [0,1,100]])\n",
    "res=cv2.warpAffine(img, move, (width, height))\n",
    "cv2.imshow(\"image move\", res)\n",
    "cv2.waitKey(0)\n",
    "cv2.destroyAllWindows()"
   ]
  },
  {
   "cell_type": "code",
   "execution_count": 19,
   "id": "5c18378a",
   "metadata": {},
   "outputs": [],
   "source": [
    "img = cv2.imread(\"dog1.jpg\")\n",
    "(height, width) = img.shape[:2]\n",
    "center = (width//2, height//2)\n",
    "move=cv2.getRotationMatrix2D(center, 90, 0.8)\n",
    "res=cv2.warpAffine(img, move, (width, height))\n",
    "cv2.imshow(\"image roation\", res)\n",
    "cv2.waitKey(0)\n",
    "cv2.destroyAllWindows()"
   ]
  },
  {
   "cell_type": "code",
   "execution_count": 18,
   "id": "c42da2f0",
   "metadata": {},
   "outputs": [],
   "source": [
    "img = cv2.imread(\"dog1.jpg\")\n",
    "(height, width) = img.shape[:2]\n",
    "center = (width//2, height//2)\n",
    "ratio = 1000.0 /width\n",
    "dem = (1000, int(height * ratio))\n",
    "resized = cv2.resize(img, dem, interpolation=cv2.INTER_AREA)\n",
    "cv2.imshow(\"image resize\", resized)\n",
    "cv2.waitKey(0)\n",
    "cv2.destroyAllWindows()"
   ]
  },
  {
   "cell_type": "code",
   "execution_count": 17,
   "id": "4b5465c5",
   "metadata": {},
   "outputs": [],
   "source": [
    "img = cv2.imread(\"dog1.jpg\")\n",
    "flip = cv2.flip(img, 0)\n",
    "cv2.imshow(\"image fliped\", flip)\n",
    "cv2.waitKey(0)\n",
    "cv2.destroyAllWindows()"
   ]
  },
  {
   "cell_type": "code",
   "execution_count": 25,
   "id": "81b22db5",
   "metadata": {},
   "outputs": [],
   "source": [
    "img = cv2.imread(\"dog1.jpg\")\n",
    "mask=np.zeros(img.shape[:2], dtype=\"uint8\")\n",
    "center = (width//2, height//2)\n",
    "cv2.circle(mask, center,200, (255,255,255), -1 )\n",
    "cv2.imshow(\"image mask\", mask)\n",
    "cv2.waitKey(0)\n",
    "cv2.destroyAllWindows()"
   ]
  },
  {
   "cell_type": "code",
   "execution_count": 26,
   "id": "f6400d35",
   "metadata": {},
   "outputs": [],
   "source": [
    "img = cv2.imread(\"dog1.jpg\")\n",
    "mask=np.zeros(img.shape[:2], dtype=\"uint8\")\n",
    "center = (width//2, height//2)\n",
    "cv2.circle(mask, center,200, (255,255,255), -1 )\n",
    "masked=cv2.bitwise_and(img, img, mask = mask)\n",
    "cv2.imshow(\"image masked\", masked)\n",
    "cv2.waitKey(0)\n",
    "cv2.destroyAllWindows()"
   ]
  },
  {
   "cell_type": "code",
   "execution_count": 14,
   "id": "a4dc0e70",
   "metadata": {},
   "outputs": [],
   "source": [
    "img = cv2.imread(\"dog1.jpg\")\n",
    "(blue, green, red) = cv2.split(img)\n",
    "\n",
    "cv2.imshow(\"image red\", red)\n",
    "cv2.imshow(\"image green\", green)\n",
    "cv2.imshow(\"image blue\", blue)\n",
    "\n",
    "cv2.waitKey(0)\n",
    "cv2.destroyAllWindows()"
   ]
  },
  {
   "cell_type": "code",
   "execution_count": 13,
   "id": "577bf3c2",
   "metadata": {},
   "outputs": [],
   "source": [
    "img = cv2.imread(\"dog1.jpg\")\n",
    "(blue, green, red) = cv2.split(img)\n",
    "\n",
    "cv2.imshow(\"image red\", red)\n",
    "cv2.imshow(\"image green\", green)\n",
    "cv2.imshow(\"image blue\", blue)\n",
    "\n",
    "cv2.waitKey(0)\n",
    "\n",
    "zeros=np.zeros(img.shape[:2], dtype=\"uint8\")\n",
    "cv2.imshow(\"image red+zeros\", cv2.merge([zeros, zeros, red]))\n",
    "cv2.imshow(\"image green+zeros\", cv2.merge([zeros, green, zeros]))\n",
    "cv2.imshow(\"image blue+zeros\", cv2.merge([blue, zeros, zeros]))\n",
    "\n",
    "cv2.waitKey(0)\n",
    "cv2.destroyAllWindows()"
   ]
  },
  {
   "cell_type": "code",
   "execution_count": 27,
   "id": "06a8a7f2",
   "metadata": {},
   "outputs": [],
   "source": [
    "img = cv2.imread(\"dog1.jpg\")\n",
    "(blue, green, red) = cv2.split(img)\n",
    "\n",
    "cv2.imshow(\"image red\", red)\n",
    "\n",
    "cv2.waitKey(0)\n",
    "\n",
    "mr=cv2.merge([zeros, zeros, red])\n",
    "\n",
    "\n",
    "zeros=np.zeros(img.shape[:2], dtype=\"uint8\")\n",
    "cv2.imshow(\"image red+zeros\", mr )\n",
    "\n",
    "\n",
    "cv2.waitKey(0)\n",
    "cv2.destroyAllWindows()"
   ]
  },
  {
   "cell_type": "code",
   "execution_count": 11,
   "id": "5b404ecd",
   "metadata": {},
   "outputs": [],
   "source": [
    "img = cv2.imread(\"dog1.jpg\")\n",
    "(blue, green, red) = cv2.split(img)\n",
    "\n",
    "gray=cv2.cvtColor(img, cv2.COLOR_BGR2GRAY)\n",
    "hsv=cv2.cvtColor(img, cv2.COLOR_BGR2HSV)\n",
    "lab=cv2.cvtColor(img, cv2.COLOR_BGR2LAB)\n",
    "cv2.imshow(\"image gray\", gray )\n",
    "cv2.imshow(\"image hsv\", hsv )\n",
    "cv2.imshow(\"image lab\", lab )\n",
    "\n",
    "cv2.waitKey(0)\n",
    "cv2.destroyAllWindows()"
   ]
  },
  {
   "cell_type": "code",
   "execution_count": null,
   "id": "00c14563",
   "metadata": {},
   "outputs": [],
   "source": []
  },
  {
   "cell_type": "code",
   "execution_count": null,
   "id": "4d398c3c",
   "metadata": {},
   "outputs": [],
   "source": []
  }
 ],
 "metadata": {
  "kernelspec": {
   "display_name": "Python 3 (ipykernel)",
   "language": "python",
   "name": "python3"
  },
  "language_info": {
   "codemirror_mode": {
    "name": "ipython",
    "version": 3
   },
   "file_extension": ".py",
   "mimetype": "text/x-python",
   "name": "python",
   "nbconvert_exporter": "python",
   "pygments_lexer": "ipython3",
   "version": "3.10.9"
  },
  "toc": {
   "base_numbering": 1,
   "nav_menu": {},
   "number_sections": true,
   "sideBar": true,
   "skip_h1_title": false,
   "title_cell": "Table of Contents",
   "title_sidebar": "Contents",
   "toc_cell": false,
   "toc_position": {},
   "toc_section_display": true,
   "toc_window_display": false
  },
  "varInspector": {
   "cols": {
    "lenName": 16,
    "lenType": 16,
    "lenVar": 40
   },
   "kernels_config": {
    "python": {
     "delete_cmd_postfix": "",
     "delete_cmd_prefix": "del ",
     "library": "var_list.py",
     "varRefreshCmd": "print(var_dic_list())"
    },
    "r": {
     "delete_cmd_postfix": ") ",
     "delete_cmd_prefix": "rm(",
     "library": "var_list.r",
     "varRefreshCmd": "cat(var_dic_list()) "
    }
   },
   "types_to_exclude": [
    "module",
    "function",
    "builtin_function_or_method",
    "instance",
    "_Feature"
   ],
   "window_display": false
  }
 },
 "nbformat": 4,
 "nbformat_minor": 5
}
