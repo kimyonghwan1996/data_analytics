{
 "cells": [
  {
   "cell_type": "markdown",
   "id": "25585ef9",
   "metadata": {},
   "source": [
    "# iris 데이터분석"
   ]
  },
  {
   "cell_type": "markdown",
   "id": "92034af1",
   "metadata": {},
   "source": [
    "## SVC model"
   ]
  },
  {
   "cell_type": "code",
   "execution_count": 4,
   "id": "372538b6",
   "metadata": {},
   "outputs": [],
   "source": [
    "import pandas as pd\n",
    "import numpy as np\n",
    "import pickle"
   ]
  },
  {
   "cell_type": "code",
   "execution_count": 5,
   "id": "2d6db00f",
   "metadata": {},
   "outputs": [],
   "source": [
    "?pickle"
   ]
  },
  {
   "cell_type": "code",
   "execution_count": 9,
   "id": "e86034f0",
   "metadata": {},
   "outputs": [
    {
     "data": {
      "text/html": [
       "<div>\n",
       "<style scoped>\n",
       "    .dataframe tbody tr th:only-of-type {\n",
       "        vertical-align: middle;\n",
       "    }\n",
       "\n",
       "    .dataframe tbody tr th {\n",
       "        vertical-align: top;\n",
       "    }\n",
       "\n",
       "    .dataframe thead th {\n",
       "        text-align: right;\n",
       "    }\n",
       "</style>\n",
       "<table border=\"1\" class=\"dataframe\">\n",
       "  <thead>\n",
       "    <tr style=\"text-align: right;\">\n",
       "      <th></th>\n",
       "      <th>Sepal_Length</th>\n",
       "      <th>Sepal_Width</th>\n",
       "      <th>Petal_Length</th>\n",
       "      <th>Petal_Width</th>\n",
       "      <th>Species</th>\n",
       "    </tr>\n",
       "  </thead>\n",
       "  <tbody>\n",
       "    <tr>\n",
       "      <th>0</th>\n",
       "      <td>5.1</td>\n",
       "      <td>3.5</td>\n",
       "      <td>1.4</td>\n",
       "      <td>0.2</td>\n",
       "      <td>Iris-setosa</td>\n",
       "    </tr>\n",
       "    <tr>\n",
       "      <th>1</th>\n",
       "      <td>4.9</td>\n",
       "      <td>3.0</td>\n",
       "      <td>1.4</td>\n",
       "      <td>0.2</td>\n",
       "      <td>Iris-setosa</td>\n",
       "    </tr>\n",
       "    <tr>\n",
       "      <th>2</th>\n",
       "      <td>4.7</td>\n",
       "      <td>3.2</td>\n",
       "      <td>1.3</td>\n",
       "      <td>0.2</td>\n",
       "      <td>Iris-setosa</td>\n",
       "    </tr>\n",
       "    <tr>\n",
       "      <th>3</th>\n",
       "      <td>4.6</td>\n",
       "      <td>3.1</td>\n",
       "      <td>1.5</td>\n",
       "      <td>0.2</td>\n",
       "      <td>Iris-setosa</td>\n",
       "    </tr>\n",
       "    <tr>\n",
       "      <th>4</th>\n",
       "      <td>5.0</td>\n",
       "      <td>3.6</td>\n",
       "      <td>1.4</td>\n",
       "      <td>0.2</td>\n",
       "      <td>Iris-setosa</td>\n",
       "    </tr>\n",
       "    <tr>\n",
       "      <th>...</th>\n",
       "      <td>...</td>\n",
       "      <td>...</td>\n",
       "      <td>...</td>\n",
       "      <td>...</td>\n",
       "      <td>...</td>\n",
       "    </tr>\n",
       "    <tr>\n",
       "      <th>145</th>\n",
       "      <td>6.7</td>\n",
       "      <td>3.0</td>\n",
       "      <td>5.2</td>\n",
       "      <td>2.3</td>\n",
       "      <td>Iris-virginica</td>\n",
       "    </tr>\n",
       "    <tr>\n",
       "      <th>146</th>\n",
       "      <td>6.3</td>\n",
       "      <td>2.5</td>\n",
       "      <td>5.0</td>\n",
       "      <td>1.9</td>\n",
       "      <td>Iris-virginica</td>\n",
       "    </tr>\n",
       "    <tr>\n",
       "      <th>147</th>\n",
       "      <td>6.5</td>\n",
       "      <td>3.0</td>\n",
       "      <td>5.2</td>\n",
       "      <td>2.0</td>\n",
       "      <td>Iris-virginica</td>\n",
       "    </tr>\n",
       "    <tr>\n",
       "      <th>148</th>\n",
       "      <td>6.2</td>\n",
       "      <td>3.4</td>\n",
       "      <td>5.4</td>\n",
       "      <td>2.3</td>\n",
       "      <td>Iris-virginica</td>\n",
       "    </tr>\n",
       "    <tr>\n",
       "      <th>149</th>\n",
       "      <td>5.9</td>\n",
       "      <td>3.0</td>\n",
       "      <td>5.1</td>\n",
       "      <td>1.8</td>\n",
       "      <td>Iris-virginica</td>\n",
       "    </tr>\n",
       "  </tbody>\n",
       "</table>\n",
       "<p>150 rows × 5 columns</p>\n",
       "</div>"
      ],
      "text/plain": [
       "     Sepal_Length  Sepal_Width  Petal_Length  Petal_Width         Species\n",
       "0             5.1          3.5           1.4          0.2     Iris-setosa\n",
       "1             4.9          3.0           1.4          0.2     Iris-setosa\n",
       "2             4.7          3.2           1.3          0.2     Iris-setosa\n",
       "3             4.6          3.1           1.5          0.2     Iris-setosa\n",
       "4             5.0          3.6           1.4          0.2     Iris-setosa\n",
       "..            ...          ...           ...          ...             ...\n",
       "145           6.7          3.0           5.2          2.3  Iris-virginica\n",
       "146           6.3          2.5           5.0          1.9  Iris-virginica\n",
       "147           6.5          3.0           5.2          2.0  Iris-virginica\n",
       "148           6.2          3.4           5.4          2.3  Iris-virginica\n",
       "149           5.9          3.0           5.1          1.8  Iris-virginica\n",
       "\n",
       "[150 rows x 5 columns]"
      ]
     },
     "execution_count": 9,
     "metadata": {},
     "output_type": "execute_result"
    }
   ],
   "source": [
    "df = pd.read_csv('iris.data')\n",
    "# csv_url = 'https://archive.ics.uci.edu/ml/machine-learning-databases/iris/iris.data'\n",
    "col_names = ['Sepal_Length','Sepal_Width','Petal_Length','Petal_Width','Species']\n",
    "# df =  pd.read_csv(csv_url, names = col_names)\n",
    "df =  pd.read_csv('iris.data', names = col_names)\n",
    "df[:]"
   ]
  },
  {
   "cell_type": "code",
   "execution_count": 142,
   "id": "3d4f9349",
   "metadata": {},
   "outputs": [],
   "source": [
    "# print(df.head())\n",
    "# print(df.tail())\n",
    "# print(df.dtypes)"
   ]
  },
  {
   "cell_type": "code",
   "execution_count": 14,
   "id": "39576bf1",
   "metadata": {},
   "outputs": [
    {
     "name": "stdout",
     "output_type": "stream",
     "text": [
      "(150, 1)\n"
     ]
    }
   ],
   "source": [
    "X = np.array(df.iloc[:, 0:4])\n",
    "y = np.array(df.iloc[:, 4:])\n",
    "print(y.shape)\n",
    "# y[:]"
   ]
  },
  {
   "cell_type": "code",
   "execution_count": 16,
   "id": "44351c00",
   "metadata": {},
   "outputs": [
    {
     "name": "stdout",
     "output_type": "stream",
     "text": [
      "(150,)\n",
      "[0 0 0 0 0 0 0 0 0 0 0 0 0 0 0 0 0 0 0 0 0 0 0 0 0 0 0 0 0 0 0 0 0 0 0 0 0\n",
      " 0 0 0 0 0 0 0 0 0 0 0 0 0 1 1 1 1 1 1 1 1 1 1 1 1 1 1 1 1 1 1 1 1 1 1 1 1\n",
      " 1 1 1 1 1 1 1 1 1 1 1 1 1 1 1 1 1 1 1 1 1 1 1 1 1 1 2 2 2 2 2 2 2 2 2 2 2\n",
      " 2 2 2 2 2 2 2 2 2 2 2 2 2 2 2 2 2 2 2 2 2 2 2 2 2 2 2 2 2 2 2 2 2 2 2 2 2\n",
      " 2 2]\n"
     ]
    }
   ],
   "source": [
    "from sklearn.preprocessing import LabelEncoder\n",
    "le = LabelEncoder()\n",
    "y = le.fit_transform(y)\n",
    "print(y.shape)\n",
    "print(y[:])"
   ]
  },
  {
   "cell_type": "code",
   "execution_count": 149,
   "id": "81d4f2e6",
   "metadata": {},
   "outputs": [
    {
     "data": {
      "text/plain": [
       "(150,)"
      ]
     },
     "execution_count": 149,
     "metadata": {},
     "output_type": "execute_result"
    }
   ],
   "source": [
    "y.shape"
   ]
  },
  {
   "cell_type": "code",
   "execution_count": 18,
   "id": "d02a050b",
   "metadata": {},
   "outputs": [],
   "source": [
    "from sklearn.model_selection import train_test_split\n",
    "X_train, X_test, y_train, y_test = train_test_split(X, y, test_size=0.2)"
   ]
  },
  {
   "cell_type": "code",
   "execution_count": 23,
   "id": "63245e18",
   "metadata": {},
   "outputs": [
    {
     "name": "stdout",
     "output_type": "stream",
     "text": [
      "X_train: ==========================\n",
      "[[5.2 4.1 1.5 0.1]\n",
      " [5.1 3.8 1.9 0.4]\n",
      " [6.4 2.8 5.6 2.2]\n",
      " [7.6 3.  6.6 2.1]\n",
      " [4.9 3.1 1.5 0.1]\n",
      " [7.  3.2 4.7 1.4]\n",
      " [4.8 3.  1.4 0.3]\n",
      " [6.9 3.1 5.4 2.1]\n",
      " [5.1 3.8 1.5 0.3]\n",
      " [5.1 3.4 1.5 0.2]\n",
      " [6.2 2.9 4.3 1.3]\n",
      " [5.8 2.6 4.  1.2]\n",
      " [6.1 3.  4.6 1.4]\n",
      " [4.6 3.4 1.4 0.3]\n",
      " [5.6 2.9 3.6 1.3]\n",
      " [6.4 3.2 4.5 1.5]\n",
      " [6.7 3.  5.  1.7]\n",
      " [4.9 2.5 4.5 1.7]\n",
      " [4.9 3.1 1.5 0.1]\n",
      " [5.9 3.2 4.8 1.8]\n",
      " [6.3 2.9 5.6 1.8]\n",
      " [5.8 4.  1.2 0.2]\n",
      " [5.2 3.4 1.4 0.2]\n",
      " [5.1 3.7 1.5 0.4]\n",
      " [5.  3.5 1.6 0.6]\n",
      " [6.7 2.5 5.8 1.8]\n",
      " [6.2 3.4 5.4 2.3]\n",
      " [5.5 2.3 4.  1.3]\n",
      " [4.6 3.6 1.  0.2]\n",
      " [6.5 3.  5.2 2. ]\n",
      " [4.7 3.2 1.3 0.2]\n",
      " [6.7 3.  5.2 2.3]\n",
      " [4.3 3.  1.1 0.1]\n",
      " [4.8 3.4 1.9 0.2]\n",
      " [4.4 3.  1.3 0.2]\n",
      " [6.1 2.9 4.7 1.4]\n",
      " [5.7 2.5 5.  2. ]\n",
      " [4.9 3.1 1.5 0.1]\n",
      " [7.3 2.9 6.3 1.8]\n",
      " [4.6 3.2 1.4 0.2]\n",
      " [6.9 3.1 5.1 2.3]\n",
      " [5.  2.  3.5 1. ]\n",
      " [6.4 2.9 4.3 1.3]\n",
      " [5.6 3.  4.5 1.5]\n",
      " [4.9 2.4 3.3 1. ]\n",
      " [5.8 2.7 5.1 1.9]\n",
      " [6.  3.  4.8 1.8]\n",
      " [5.4 3.4 1.5 0.4]\n",
      " [5.7 3.  4.2 1.2]\n",
      " [4.8 3.  1.4 0.1]\n",
      " [5.8 2.7 5.1 1.9]\n",
      " [5.7 3.8 1.7 0.3]\n",
      " [6.4 3.1 5.5 1.8]\n",
      " [7.7 2.8 6.7 2. ]\n",
      " [5.4 3.  4.5 1.5]\n",
      " [5.  3.  1.6 0.2]\n",
      " [5.1 3.3 1.7 0.5]\n",
      " [6.  2.9 4.5 1.5]\n",
      " [7.2 3.6 6.1 2.5]\n",
      " [5.  3.4 1.6 0.4]\n",
      " [5.6 2.7 4.2 1.3]\n",
      " [5.8 2.8 5.1 2.4]\n",
      " [6.9 3.1 4.9 1.5]\n",
      " [6.4 3.2 5.3 2.3]\n",
      " [6.2 2.8 4.8 1.8]\n",
      " [6.1 2.6 5.6 1.4]\n",
      " [5.5 3.5 1.3 0.2]\n",
      " [6.8 2.8 4.8 1.4]\n",
      " [6.6 2.9 4.6 1.3]\n",
      " [6.8 3.2 5.9 2.3]\n",
      " [6.7 3.3 5.7 2.5]\n",
      " [6.3 2.5 4.9 1.5]\n",
      " [5.9 3.  5.1 1.8]\n",
      " [6.3 2.8 5.1 1.5]\n",
      " [5.3 3.7 1.5 0.2]\n",
      " [6.3 3.4 5.6 2.4]\n",
      " [6.5 2.8 4.6 1.5]\n",
      " [5.2 2.7 3.9 1.4]\n",
      " [5.  3.2 1.2 0.2]\n",
      " [6.7 3.1 4.7 1.5]\n",
      " [5.  3.4 1.5 0.2]\n",
      " [7.2 3.  5.8 1.6]\n",
      " [7.7 3.  6.1 2.3]\n",
      " [5.1 3.8 1.6 0.2]\n",
      " [6.5 3.  5.8 2.2]\n",
      " [4.4 3.2 1.3 0.2]\n",
      " [5.  2.3 3.3 1. ]\n",
      " [5.5 2.4 3.8 1.1]\n",
      " [5.4 3.7 1.5 0.2]\n",
      " [4.8 3.4 1.6 0.2]\n",
      " [6.6 3.  4.4 1.4]\n",
      " [6.4 2.8 5.6 2.1]\n",
      " [5.4 3.9 1.3 0.4]\n",
      " [5.7 2.9 4.2 1.3]\n",
      " [5.1 3.5 1.4 0.3]\n",
      " [4.7 3.2 1.6 0.2]\n",
      " [6.1 3.  4.9 1.8]\n",
      " [5.5 2.6 4.4 1.2]\n",
      " [4.4 2.9 1.4 0.2]\n",
      " [4.6 3.1 1.5 0.2]\n",
      " [6.9 3.2 5.7 2.3]\n",
      " [6.  2.2 5.  1.5]\n",
      " [6.7 3.1 4.4 1.4]\n",
      " [5.  3.3 1.4 0.2]\n",
      " [7.7 3.8 6.7 2.2]\n",
      " [5.7 2.8 4.1 1.3]\n",
      " [6.  2.2 4.  1. ]\n",
      " [6.  2.7 5.1 1.6]\n",
      " [6.2 2.2 4.5 1.5]\n",
      " [5.5 4.2 1.4 0.2]\n",
      " [5.5 2.5 4.  1.3]\n",
      " [7.4 2.8 6.1 1.9]\n",
      " [6.3 2.3 4.4 1.3]\n",
      " [5.6 3.  4.1 1.3]\n",
      " [5.8 2.7 3.9 1.2]\n",
      " [5.9 3.  4.2 1.5]\n",
      " [5.  3.5 1.3 0.3]\n",
      " [6.1 2.8 4.7 1.2]\n",
      " [6.3 3.3 4.7 1.6]\n",
      " [6.1 2.8 4.  1.3]]\n",
      "X_test: ==========================\n",
      "[[7.1 3.  5.9 2.1]\n",
      " [6.3 2.5 5.  1.9]\n",
      " [6.7 3.1 5.6 2.4]\n",
      " [7.9 3.8 6.4 2. ]\n",
      " [6.8 3.  5.5 2.1]\n",
      " [6.5 3.  5.5 1.8]\n",
      " [5.8 2.7 4.1 1. ]\n",
      " [5.6 2.5 3.9 1.1]\n",
      " [6.3 2.7 4.9 1.8]\n",
      " [7.2 3.2 6.  1.8]\n",
      " [6.3 3.3 6.  2.5]\n",
      " [4.5 2.3 1.3 0.3]\n",
      " [5.6 2.8 4.9 2. ]\n",
      " [4.9 3.  1.4 0.2]\n",
      " [6.5 3.2 5.1 2. ]\n",
      " [5.5 2.4 3.7 1. ]\n",
      " [5.7 4.4 1.5 0.4]\n",
      " [5.2 3.5 1.5 0.2]\n",
      " [5.7 2.8 4.5 1.3]\n",
      " [5.4 3.9 1.7 0.4]\n",
      " [5.1 3.5 1.4 0.2]\n",
      " [5.7 2.6 3.5 1. ]\n",
      " [4.8 3.1 1.6 0.2]\n",
      " [7.7 2.6 6.9 2.3]\n",
      " [5.4 3.4 1.7 0.2]\n",
      " [6.  3.4 4.5 1.6]\n",
      " [6.4 2.7 5.3 1.9]\n",
      " [5.1 2.5 3.  1.1]\n",
      " [5.  3.6 1.4 0.2]\n",
      " [6.7 3.3 5.7 2.1]]\n",
      "y_train : ==========================\n",
      "[0 0 2 2 0 1 0 2 0 0 1 1 1 0 1 1 1 2 0 1 2 0 0 0 0 2 2 1 0 2 0 2 0 0 0 1 2\n",
      " 0 2 0 2 1 1 1 1 2 2 0 1 0 2 0 2 2 1 0 0 1 2 0 1 2 1 2 2 2 0 1 1 2 2 1 2 2\n",
      " 0 2 1 1 0 1 0 2 2 0 2 0 1 1 0 0 1 2 0 1 0 0 2 1 0 0 2 2 1 0 2 1 1 1 1 0 1\n",
      " 2 1 1 1 1 0 1 1 1]\n",
      "y_test : ==========================\n",
      "[2 2 2 2 2 2 1 1 2 2 2 0 2 0 2 1 0 0 1 0 0 1 0 2 0 1 2 1 0 2]\n"
     ]
    }
   ],
   "source": [
    "print(\"X_train: ==========================\")\n",
    "print(X_train)\n",
    "print(\"X_test: ==========================\")\n",
    "print(X_test)\n",
    "print(\"y_train : ==========================\")\n",
    "print(y_train)\n",
    "print(\"y_test : ==========================\")\n",
    "print(y_test)\n"
   ]
  },
  {
   "cell_type": "code",
   "execution_count": 26,
   "id": "fc72fe13",
   "metadata": {},
   "outputs": [],
   "source": [
    "# ?X_train"
   ]
  },
  {
   "cell_type": "code",
   "execution_count": 28,
   "id": "0d78b5e2",
   "metadata": {},
   "outputs": [],
   "source": [
    "from sklearn.svm import SVC\n",
    "sv = SVC(kernel='linear').fit(X_train,y_train)"
   ]
  },
  {
   "cell_type": "code",
   "execution_count": 29,
   "id": "27435e84",
   "metadata": {},
   "outputs": [],
   "source": [
    "?sv"
   ]
  },
  {
   "cell_type": "code",
   "execution_count": 36,
   "id": "f026cd28",
   "metadata": {},
   "outputs": [
    {
     "name": "stdout",
     "output_type": "stream",
     "text": [
      "[2]\n"
     ]
    }
   ],
   "source": [
    "arr = np.array([[6.7, 3.0, 5.2,  2.3]])\n",
    "pred = sv.predict(arr)\n",
    "pred[0]\n",
    "print(pred[:])"
   ]
  },
  {
   "cell_type": "code",
   "execution_count": 40,
   "id": "7439a7e7",
   "metadata": {},
   "outputs": [
    {
     "name": "stdout",
     "output_type": "stream",
     "text": [
      "[2 2 2 2 2 2 1 1 2 2 2 0 2 0 2 1 0 0 1 0 0 1 0 2 0 1 2 1 0 2]\n"
     ]
    }
   ],
   "source": [
    "pred = sv.predict(X_test)\n",
    "print(pred[:])"
   ]
  },
  {
   "cell_type": "code",
   "execution_count": 33,
   "id": "3df21f7b",
   "metadata": {},
   "outputs": [],
   "source": [
    "?pred"
   ]
  },
  {
   "cell_type": "code",
   "execution_count": 30,
   "id": "0487886d",
   "metadata": {},
   "outputs": [],
   "source": [
    "pickle.dump(sv, open('iris.pkl', 'wb'))"
   ]
  },
  {
   "cell_type": "code",
   "execution_count": 41,
   "id": "152a1feb",
   "metadata": {},
   "outputs": [
    {
     "name": "stdout",
     "output_type": "stream",
     "text": [
      "0\n",
      "2\n",
      "1\n"
     ]
    }
   ],
   "source": [
    "import pickle\n",
    "import numpy as np\n",
    "\n",
    "model = pickle.load(open('iris.pkl', 'rb'))\n",
    "arr = np.array([[ 5.1, 3.5, 1.4, 0.2]])\n",
    "pred = model.predict(arr)\n",
    "pred[0]\n",
    "print(pred[0])\n",
    "\n",
    "arr = np.array([[6.7, 3.0, 5.2,  2.3]])\n",
    "pred = model.predict(arr)\n",
    "pred[0]\n",
    "print(pred[0])\n",
    "\n",
    "arr = np.array([[5.5, 2.4, 3.8, 1.1]])\n",
    "pred = model.predict(arr)\n",
    "pred[0]\n",
    "print(pred[0])"
   ]
  },
  {
   "cell_type": "markdown",
   "id": "0a6b8cea",
   "metadata": {},
   "source": [
    "# 플라스크 백엔드 코드\n"
   ]
  },
  {
   "cell_type": "code",
   "execution_count": 166,
   "id": "1b1abb68",
   "metadata": {},
   "outputs": [],
   "source": [
    "from flask import Flask\n",
    "app = Flask(__name__)\n",
    "\n",
    "@app.route('/')\n",
    "def hello():\n",
    "    return 'hello kdata class'"
   ]
  },
  {
   "cell_type": "code",
   "execution_count": null,
   "id": "d0b7fce1",
   "metadata": {},
   "outputs": [],
   "source": []
  },
  {
   "cell_type": "code",
   "execution_count": 168,
   "id": "e83a02dc",
   "metadata": {},
   "outputs": [],
   "source": [
    "from flask import Flask\n",
    "app = Flask(__name__)\n",
    "\n",
    "@app.route('/')\n",
    "def hello():\n",
    "    return 'hello kdata class'\n",
    "\n",
    "@app.route('/about')\n",
    "def about():\n",
    "    return 'Kdata class <br> from seoultech university'\n",
    "        \n",
    "@app.route('/contact')\n",
    "def contact():\n",
    "    return 'tel : 012-345-6789'"
   ]
  },
  {
   "cell_type": "code",
   "execution_count": null,
   "id": "9c6a8cb1",
   "metadata": {},
   "outputs": [],
   "source": []
  },
  {
   "cell_type": "code",
   "execution_count": 169,
   "id": "54da01f3",
   "metadata": {},
   "outputs": [],
   "source": [
    "from flask import Flask\n",
    "from markupsafe import escape\n",
    "\n",
    "app = Flask(__name__)\n",
    "\n",
    "@app.route(\"/<name>\")\n",
    "def hello(name):\n",
    "    return f\"Hello, {escape(name)}!\""
   ]
  },
  {
   "cell_type": "code",
   "execution_count": null,
   "id": "ebcc0ad7",
   "metadata": {},
   "outputs": [],
   "source": []
  },
  {
   "cell_type": "code",
   "execution_count": 170,
   "id": "d31bacac",
   "metadata": {},
   "outputs": [
    {
     "name": "stdout",
     "output_type": "stream",
     "text": [
      " * Serving Flask app '__main__'\n",
      " * Debug mode: on\n"
     ]
    },
    {
     "name": "stderr",
     "output_type": "stream",
     "text": [
      "WARNING: This is a development server. Do not use it in a production deployment. Use a production WSGI server instead.\n",
      " * Running on http://127.0.0.1:5000\n",
      "Press CTRL+C to quit\n",
      " * Restarting with watchdog (windowsapi)\n"
     ]
    },
    {
     "ename": "SystemExit",
     "evalue": "1",
     "output_type": "error",
     "traceback": [
      "An exception has occurred, use %tb to see the full traceback.\n",
      "\u001b[1;31mSystemExit\u001b[0m\u001b[1;31m:\u001b[0m 1\n"
     ]
    },
    {
     "name": "stderr",
     "output_type": "stream",
     "text": [
      "C:\\ProgramData\\anaconda3\\lib\\site-packages\\IPython\\core\\interactiveshell.py:3468: UserWarning: To exit: use 'exit', 'quit', or Ctrl-D.\n",
      "  warn(\"To exit: use 'exit', 'quit', or Ctrl-D.\", stacklevel=1)\n"
     ]
    }
   ],
   "source": [
    "from flask import Flask, render_template, request\n",
    "import pickle\n",
    "import numpy as np\n",
    "\n",
    "model = pickle.load(open('iris.pkl', 'rb'))\n",
    "\n",
    "app = Flask(__name__)\n",
    "\n",
    "\n",
    "\n",
    "@app.route('/')\n",
    "def man():\n",
    "    return render_template('home.html')\n",
    "\n",
    "\n",
    "@app.route('/predict', methods=['POST'])\n",
    "def home():\n",
    "    data1 = request.form['a']\n",
    "    data2 = request.form['b']\n",
    "    data3 = request.form['c']\n",
    "    data4 = request.form['d']\n",
    "    arr = np.array([[data1, data2, data3, data4]])\n",
    "    pred = model.predict(arr)\n",
    "    return render_template('after.html', data=pred)\n",
    "\n",
    "\n",
    "if __name__ == \"__main__\":\n",
    "    app.run(debug=True)\n"
   ]
  },
  {
   "cell_type": "code",
   "execution_count": null,
   "id": "532bc1bf",
   "metadata": {},
   "outputs": [],
   "source": []
  },
  {
   "cell_type": "code",
   "execution_count": 174,
   "id": "9fbdf3bf",
   "metadata": {},
   "outputs": [
    {
     "name": "stderr",
     "output_type": "stream",
     "text": [
      "C:\\ProgramData\\anaconda3\\lib\\site-packages\\sklearn\\preprocessing\\_label.py:116: DataConversionWarning: A column-vector y was passed when a 1d array was expected. Please change the shape of y to (n_samples, ), for example using ravel().\n",
      "  y = column_or_1d(y, warn=True)\n"
     ]
    }
   ],
   "source": [
    "# iris.py\n",
    "import pandas as pd\n",
    "import numpy as np\n",
    "import pickle\n",
    "\n",
    "df = pd.read_csv('iris.data')\n",
    "\n",
    "X = np.array(df.iloc[:, 0:4])\n",
    "y = np.array(df.iloc[:, 4:])\n",
    "\n",
    "from sklearn.preprocessing import LabelEncoder\n",
    "le = LabelEncoder()\n",
    "y = le.fit_transform(y)\n",
    "\n",
    "from sklearn.model_selection import train_test_split\n",
    "X_train, X_test, y_train, y_test = train_test_split(X, y, test_size=0.2)\n",
    "\n",
    "from sklearn.svm import SVC\n",
    "sv = SVC(kernel='linear').fit(X_train,y_train)\n",
    "\n",
    "\n",
    "pickle.dump(sv, open('iri.pkl', 'wb'))\n"
   ]
  },
  {
   "cell_type": "code",
   "execution_count": null,
   "id": "f3a36678",
   "metadata": {},
   "outputs": [],
   "source": []
  },
  {
   "cell_type": "code",
   "execution_count": 2,
   "id": "f45f72c5",
   "metadata": {},
   "outputs": [
    {
     "ename": "SyntaxError",
     "evalue": "invalid syntax (772602451.py, line 3)",
     "output_type": "error",
     "traceback": [
      "\u001b[1;36m  Cell \u001b[1;32mIn[2], line 3\u001b[1;36m\u001b[0m\n\u001b[1;33m    <html>\u001b[0m\n\u001b[1;37m    ^\u001b[0m\n\u001b[1;31mSyntaxError\u001b[0m\u001b[1;31m:\u001b[0m invalid syntax\n"
     ]
    }
   ],
   "source": [
    "# after.html\n",
    "\n",
    "<html>\n",
    "<body bgcolor=#a3cfb4>\n",
    "    <center>\n",
    "        <h1>  PREDICTION :  </h1>\n",
    "    \n",
    "    {%if data == 0%}\n",
    "    <h1>Iris-setosa</h1>  \n",
    "    <img src='static\\setosa.jpg'>  \n",
    "    {%elif data == 1%}\n",
    "    <h1>Iris-virginica</h1>  \n",
    "    <img src='static\\flower1.jpg'>  \n",
    "    {%else%}\n",
    "    <h1>Iris-versicolor</h1>\n",
    "    <img src='static\\verci.jpg'>\n",
    "    {%endif%}\n",
    "        <br><br>\n",
    "    <a href='/'>go back to home page</a>\n",
    "    </center>\n",
    "</body>\n",
    "</html>"
   ]
  },
  {
   "cell_type": "code",
   "execution_count": null,
   "id": "ef4b8f63",
   "metadata": {},
   "outputs": [],
   "source": []
  },
  {
   "cell_type": "code",
   "execution_count": 3,
   "id": "031214ec",
   "metadata": {},
   "outputs": [
    {
     "ename": "SyntaxError",
     "evalue": "invalid syntax (4135303507.py, line 3)",
     "output_type": "error",
     "traceback": [
      "\u001b[1;36m  Cell \u001b[1;32mIn[3], line 3\u001b[1;36m\u001b[0m\n\u001b[1;33m    <html>\u001b[0m\n\u001b[1;37m    ^\u001b[0m\n\u001b[1;31mSyntaxError\u001b[0m\u001b[1;31m:\u001b[0m invalid syntax\n"
     ]
    }
   ],
   "source": [
    "# home.html\n",
    "\n",
    "<html>\n",
    "    <body bgcolor=#d4a3ae>\n",
    "        <center>\n",
    "        <h1> IRIS FLOWER DETECTION </h1><br>\n",
    "        \n",
    "        <form method=\"POST\", action=\"{{url_for('home')}}\">\n",
    "           <b> First value :  <input type=\"text\", name='a', placeholder=\"enter 1\"> <br><br>\n",
    "            Second value :  <input type=\"text\", name='b', placeholder=\"enter 2\"> <br><br>\n",
    "            Third value :  <input type=\"text\", name='c', placeholder=\"enter 3\"> <br><br>\n",
    "            Fourth value : <input type=\"text\", name='d', placeholder=\"enter 4\"> <br><br><br></b>\n",
    "            <input type=\"submit\" , value='predict!' >\n",
    "        </form>\n",
    "\n",
    "        <img src='static\\flower1.jpg' alt=\"flower\">\n",
    "        </center>\n",
    "    </body>\n",
    "</html>\n"
   ]
  },
  {
   "cell_type": "code",
   "execution_count": null,
   "id": "d2f7fd1f",
   "metadata": {},
   "outputs": [],
   "source": []
  }
 ],
 "metadata": {
  "kernelspec": {
   "display_name": "Python 3 (ipykernel)",
   "language": "python",
   "name": "python3"
  },
  "language_info": {
   "codemirror_mode": {
    "name": "ipython",
    "version": 3
   },
   "file_extension": ".py",
   "mimetype": "text/x-python",
   "name": "python",
   "nbconvert_exporter": "python",
   "pygments_lexer": "ipython3",
   "version": "3.9.7"
  },
  "toc": {
   "base_numbering": 1,
   "nav_menu": {},
   "number_sections": true,
   "sideBar": true,
   "skip_h1_title": false,
   "title_cell": "Table of Contents",
   "title_sidebar": "Contents",
   "toc_cell": false,
   "toc_position": {},
   "toc_section_display": true,
   "toc_window_display": false
  },
  "varInspector": {
   "cols": {
    "lenName": 16,
    "lenType": 16,
    "lenVar": 40
   },
   "kernels_config": {
    "python": {
     "delete_cmd_postfix": "",
     "delete_cmd_prefix": "del ",
     "library": "var_list.py",
     "varRefreshCmd": "print(var_dic_list())"
    },
    "r": {
     "delete_cmd_postfix": ") ",
     "delete_cmd_prefix": "rm(",
     "library": "var_list.r",
     "varRefreshCmd": "cat(var_dic_list()) "
    }
   },
   "types_to_exclude": [
    "module",
    "function",
    "builtin_function_or_method",
    "instance",
    "_Feature"
   ],
   "window_display": false
  }
 },
 "nbformat": 4,
 "nbformat_minor": 5
}
