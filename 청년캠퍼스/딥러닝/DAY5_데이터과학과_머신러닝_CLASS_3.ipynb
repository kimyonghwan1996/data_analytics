{
  "nbformat": 4,
  "nbformat_minor": 0,
  "metadata": {
    "colab": {
      "private_outputs": true,
      "provenance": []
    },
    "kernelspec": {
      "name": "python3",
      "display_name": "Python 3"
    },
    "language_info": {
      "name": "python"
    }
  },
  "cells": [
    {
      "cell_type": "markdown",
      "source": [
        "# K MEANS"
      ],
      "metadata": {
        "id": "OO4g2NlZ6LiQ"
      }
    },
    {
      "cell_type": "code",
      "source": [
        "import numpy as np\n",
        "import pandas as pd\n",
        "import matplotlib.pyplot as plt"
      ],
      "metadata": {
        "id": "idK055E-6ZGJ"
      },
      "execution_count": null,
      "outputs": []
    },
    {
      "cell_type": "code",
      "source": [
        "x = [1, 5, 1.5, 8, 1, 9]\n",
        "y = [2, 8, 1.8, 8, 0.6, 11]"
      ],
      "metadata": {
        "id": "Y9oqv3ZQ5z0n"
      },
      "execution_count": null,
      "outputs": []
    },
    {
      "cell_type": "code",
      "source": [
        "# 넘파이로 다루는 경우\n",
        "X = np.array([x,y])\n",
        "X = X.T\n",
        "X"
      ],
      "metadata": {
        "id": "FhgqqE7GBiNP"
      },
      "execution_count": null,
      "outputs": []
    },
    {
      "cell_type": "code",
      "source": [
        "# 넘파이 데이터를 시각화한 경우\n",
        "plt.scatter(X[:,0], X[:,1])"
      ],
      "metadata": {
        "id": "9KUWBMDgCL56"
      },
      "execution_count": null,
      "outputs": []
    },
    {
      "cell_type": "code",
      "source": [
        "# 데이터 프레임으로 만들어서 시각화 한 경우\n",
        "df = pd.DataFrame({'x': x,\n",
        "              'y': y})\n",
        "plt.scatter(df.x, df.y)"
      ],
      "metadata": {
        "id": "88R80iL37iaJ"
      },
      "execution_count": null,
      "outputs": []
    },
    {
      "cell_type": "code",
      "source": [
        "#클래스와 오브젝트\n",
        "class Calculator:\n",
        "    def addition(self, x, y):\n",
        "        return x+y\n",
        "\n",
        "    def substract(self, x,y):\n",
        "        return x-y"
      ],
      "metadata": {
        "id": "zOG4tNOMDWrr"
      },
      "execution_count": null,
      "outputs": []
    },
    {
      "cell_type": "code",
      "source": [
        "calculator = Calculator() #instantiation\n",
        "calculator.addition(2, 3)"
      ],
      "metadata": {
        "id": "nN_9xxtVECPk"
      },
      "execution_count": null,
      "outputs": []
    },
    {
      "cell_type": "code",
      "source": [
        "from sklearn.cluster import KMeans\n",
        "kmeans = KMeans(n_clusters=2)\n",
        "kmeans.fit(df)\n",
        "label = kmeans.labels_\n",
        "center = kmeans.cluster_centers_"
      ],
      "metadata": {
        "id": "cphYoqtv5zo1"
      },
      "execution_count": null,
      "outputs": []
    },
    {
      "cell_type": "code",
      "source": [
        "plt.scatter(x,y)\n",
        "plt.scatter(center[:,0], center[:,1], marker='x', s=100, c='black', linewidth=3)\n",
        "plt.show()"
      ],
      "metadata": {
        "id": "XaKw1j6n5zmN"
      },
      "execution_count": null,
      "outputs": []
    },
    {
      "cell_type": "markdown",
      "source": [
        "# US ARREST  PCA"
      ],
      "metadata": {
        "id": "BgyMY7ikJg4Y"
      }
    },
    {
      "cell_type": "code",
      "source": [
        "arrest = pd.read_csv('/content/USArrests.csv')\n",
        "arrest = arrest.set_index('Unnamed: 0')\n",
        "arrest.columns"
      ],
      "metadata": {
        "id": "wKjJbcxnJoLu"
      },
      "execution_count": null,
      "outputs": []
    },
    {
      "cell_type": "code",
      "source": [
        "# pca로 2차원으로 변환후 그래프(슬라이드 66번 참조)\n",
        "from sklearn.decomposition import PCA\n",
        "pca = PCA(n_components=2)\n",
        "result = pca.fit_transform(arrest)"
      ],
      "metadata": {
        "id": "zayjmmI9JoI4"
      },
      "execution_count": null,
      "outputs": []
    },
    {
      "cell_type": "code",
      "source": [
        "df = pd.DataFrame(result, columns=['c1', 'c2'])\n",
        "plt.scatter(df.c1, df.c2)\n",
        "for state, x, y in zip(arrest.index, df.c1, df.c2):\n",
        "    plt.annotate(xy=[x,y], text=state) #좌표옆에 주이름\n",
        "plt.show()"
      ],
      "metadata": {
        "id": "444TSs5YLm2P"
      },
      "execution_count": null,
      "outputs": []
    },
    {
      "cell_type": "code",
      "source": [
        "# rotation matrix, explained ratio, accumulated explained ratio(슬라이드 67번 참조)\n",
        "print('rotation matrix:')\n",
        "print(pca.components_.T)\n",
        "print('explained ratio: ')\n",
        "print(pca.explained_variance_ratio_)\n",
        "print('accumulated explained ratio: ')\n",
        "print(pca.explained_variance_ratio_.cumsum())\n",
        "ratio = pca.explained_variance_ratio_.cumsum()"
      ],
      "metadata": {
        "id": "vfYYxcpoJoCg"
      },
      "execution_count": null,
      "outputs": []
    },
    {
      "cell_type": "code",
      "source": [
        "# plot accumulatred explained ratio\n",
        "plt.plot(np.arange(1,3),ratio)"
      ],
      "metadata": {
        "id": "0HxZ2wMy5zjT"
      },
      "execution_count": null,
      "outputs": []
    },
    {
      "cell_type": "markdown",
      "source": [
        "# IRIS DATA PCA"
      ],
      "metadata": {
        "id": "bp7FmUnhV0ue"
      }
    },
    {
      "cell_type": "code",
      "source": [
        "# 아이리스 데이터 불러오기\n",
        "from sklearn import datasets\n",
        "iris = datasets.load_iris()\n",
        "df = pd.DataFrame(iris.data, columns=iris.feature_names)\n",
        "df['species'] = iris.target\n",
        "df"
      ],
      "metadata": {
        "id": "T98wP-K05zgW"
      },
      "execution_count": null,
      "outputs": []
    },
    {
      "cell_type": "code",
      "source": [
        "# X and y split\n",
        "y = df.species\n",
        "x = df.drop('species', axis=1)"
      ],
      "metadata": {
        "id": "UR9rpJJuWvAk"
      },
      "execution_count": null,
      "outputs": []
    },
    {
      "cell_type": "code",
      "source": [
        "x.boxplot()\n",
        "plt.show()"
      ],
      "metadata": {
        "id": "Igw7GrNcXIpL"
      },
      "execution_count": null,
      "outputs": []
    },
    {
      "cell_type": "code",
      "source": [
        "# Scaling\n",
        "from sklearn.preprocessing import StandardScaler\n",
        "scaler = StandardScaler()\n",
        "x_scaled = scaler.fit_transform(x)\n",
        "plt.boxplot(x_scaled)\n",
        "plt.show()"
      ],
      "metadata": {
        "id": "ebZjh-waYEVT"
      },
      "execution_count": null,
      "outputs": []
    },
    {
      "cell_type": "code",
      "source": [
        "# PCA\n",
        "pca = PCA(n_components=2)\n",
        "result = pca.fit_transform(x_scaled)\n",
        "df_result = pd.DataFrame(result, columns=['c1', 'c2'])"
      ],
      "metadata": {
        "id": "cY3UG9_tWG6l"
      },
      "execution_count": null,
      "outputs": []
    },
    {
      "cell_type": "code",
      "source": [
        "# 2D projection\n",
        "plt.scatter(df_result.c1, df_result.c2, c=df.species)\n",
        "plt.show()"
      ],
      "metadata": {
        "id": "iplxEdPh5zdZ"
      },
      "execution_count": null,
      "outputs": []
    },
    {
      "cell_type": "code",
      "source": [
        "# DENDROGRAM\n",
        "X = np.array([[5,3],\n",
        "[10,15],\n",
        "[15,12],\n",
        "[24,10],\n",
        "[30,30],\n",
        "[85,70],\n",
        "[71,80],\n",
        "[60,78],\n",
        "[70,55],\n",
        "[80,91]]) #10X2\n",
        "len(X)"
      ],
      "metadata": {
        "id": "SK6oK9vU5zar"
      },
      "execution_count": null,
      "outputs": []
    },
    {
      "cell_type": "markdown",
      "source": [
        "# 군집 갯수를 정할 때 사용하는 방법들"
      ],
      "metadata": {
        "id": "t1r7bLDhfuKN"
      }
    },
    {
      "cell_type": "code",
      "source": [
        "from scipy.cluster.hierarchy import dendrogram, linkage\n",
        "dendrogram(linkage(X, 'ward'),distance_sort='descending')\n",
        "import warnings\n",
        "warnings.filterwarnings('ignore') # 2개 군집이 적당할 것 같음"
      ],
      "metadata": {
        "id": "H0UdgZMw5zYA"
      },
      "execution_count": null,
      "outputs": []
    },
    {
      "cell_type": "code",
      "source": [
        "# elbow method\n",
        "from sklearn.cluster import KMeans\n",
        "from scipy.spatial.distance import cdist\n",
        "import numpy as np\n",
        "wss = []\n",
        "k_range = range(1, 11)\n",
        "for k in k_range:\n",
        "    kmeans = KMeans(n_clusters=k)\n",
        "    kmeans.fit(X)\n",
        "    total = kmeans.inertia_\n",
        "    wss.append(total)"
      ],
      "metadata": {
        "id": "bgcO8VBC5zVY"
      },
      "execution_count": null,
      "outputs": []
    },
    {
      "cell_type": "code",
      "source": [
        "plt.plot(k_range, wss, 'bx-')\n",
        "plt.xlabel('Number of clusters K')\n",
        "plt.ylabel('Total within-clusters sum of squares')\n",
        "plt.title('The Elbow Method showing the optimal k')\n",
        "plt.show() # 2개 군집이 적당함"
      ],
      "metadata": {
        "id": "kvSmphpT5zSH"
      },
      "execution_count": null,
      "outputs": []
    },
    {
      "cell_type": "code",
      "source": [
        "# 실루엣 메소드\n",
        "from sklearn.metrics import silhouette_score\n",
        "silhouette = []\n",
        "k_range = range(2, 10)\n",
        "for k in k_range:\n",
        "    kmeans = KMeans(n_clusters=k)\n",
        "    kmeans.fit(X)\n",
        "    silhouette_avg = silhouette_score(X, kmeans.labels_)\n",
        "    silhouette.append(silhouette_avg)"
      ],
      "metadata": {
        "id": "dey1uWFig08I"
      },
      "execution_count": null,
      "outputs": []
    },
    {
      "cell_type": "code",
      "source": [
        "plt.plot(k_range,\n",
        "silhouette, 'bx-')\n",
        "plt.xlabel('Number of clusters K')\n",
        "plt.ylabel('Average Silhouettes')\n",
        "plt.title('The Silhouette Method showing the optimal k')\n",
        "plt.show()"
      ],
      "metadata": {
        "id": "7xdWxKFRg15D"
      },
      "execution_count": null,
      "outputs": []
    },
    {
      "cell_type": "markdown",
      "source": [
        "# US ARREST KMEANS"
      ],
      "metadata": {
        "id": "ylfDikCUly-u"
      }
    },
    {
      "cell_type": "code",
      "source": [
        "#데이터 가져오기\n",
        "arrest = pd.read_csv('/content/USArrests.csv')\n",
        "arrest = arrest.set_index('Unnamed: 0')\n",
        "arrest.columns"
      ],
      "metadata": {
        "id": "1wFgl4y3l3I0"
      },
      "execution_count": null,
      "outputs": []
    },
    {
      "cell_type": "code",
      "source": [
        "# 데이터 준비(표준화)\n",
        "arrest.boxplot()"
      ],
      "metadata": {
        "id": "5SJdpOt5isQA"
      },
      "execution_count": null,
      "outputs": []
    },
    {
      "cell_type": "code",
      "source": [
        "scaler = StandardScaler()\n",
        "arrest_scaled = scaler.fit_transform(arrest)\n",
        "plt.boxplot(arrest_scaled)\n",
        "plt.show()"
      ],
      "metadata": {
        "id": "FyHuTCwym1e9"
      },
      "execution_count": null,
      "outputs": []
    },
    {
      "cell_type": "code",
      "source": [
        "#군집갯수 정하기(dendrogram, elbow, sillouette 법 중 하나)\n",
        "dendrogram(linkage(arrest_scaled, 'ward'))\n",
        "warnings.filterwarnings('ignore') #2개 또는 4개"
      ],
      "metadata": {
        "id": "BIXgBdnSg12F"
      },
      "execution_count": null,
      "outputs": []
    },
    {
      "cell_type": "code",
      "source": [
        "#KMEANS\n",
        "kmeans = KMeans(n_clusters=2)\n",
        "kmeans.fit_transform(arrest_scaled)\n",
        "print(kmeans.labels_)\n",
        "kmeans.cluster_centers_"
      ],
      "metadata": {
        "id": "W1tvrJSHg1zW"
      },
      "execution_count": null,
      "outputs": []
    },
    {
      "cell_type": "code",
      "source": [
        "# 라벨을 새로운 컬럼으로 추가\n",
        "arrest['cluster'] = kmeans.labels_\n",
        "arrest.head()"
      ],
      "metadata": {
        "id": "-XsOIrryg1wc"
      },
      "execution_count": null,
      "outputs": []
    },
    {
      "cell_type": "code",
      "source": [
        "#프로파일링\n",
        "arrest.groupby('cluster').mean()"
      ],
      "metadata": {
        "id": "hTrQvEz8qgCm"
      },
      "execution_count": null,
      "outputs": []
    },
    {
      "cell_type": "code",
      "source": [
        "# 클러스터별 주\n",
        "print('범죄발생이 높은 주들: ')\n",
        "arrest[arrest.cluster == 0].index"
      ],
      "metadata": {
        "id": "79Y3VyhOg1tu"
      },
      "execution_count": null,
      "outputs": []
    },
    {
      "cell_type": "code",
      "source": [
        "print('범죄발생이 낮은 주들: ')\n",
        "arrest[arrest.cluster == 1].index"
      ],
      "metadata": {
        "id": "6a5uO8Brg1qx"
      },
      "execution_count": null,
      "outputs": []
    }
  ]
}