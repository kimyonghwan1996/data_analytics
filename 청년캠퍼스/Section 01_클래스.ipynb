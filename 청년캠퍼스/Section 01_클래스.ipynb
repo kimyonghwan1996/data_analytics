{
 "cells": [
  {
   "cell_type": "markdown",
   "metadata": {
    "id": "hg6iZkJ9e0aK"
   },
   "source": [
    "## 1. 클래스의 개념과 정의\n",
    "- 클래스: 속성(데이터)과 메서드로 구성\n",
    "- 속성: 클래스 내부에서 정의되는 변수\n",
    "- 메서드: 클래스 내부에서 정의되는 멤버 함수\n",
    "- 객체: 일을 하는 주체, 클래스를 통해 생성\n",
    "\n",
    "## 2. 클래스의 사용"
   ]
  },
  {
   "cell_type": "code",
   "execution_count": null,
   "metadata": {
    "colab": {
     "base_uri": "https://localhost:8080/"
    },
    "executionInfo": {
     "elapsed": 6,
     "status": "ok",
     "timestamp": 1684390330187,
     "user": {
      "displayName": "꾬은주",
      "userId": "05623544279730996499"
     },
     "user_tz": -540
    },
    "id": "if9F2Fq6ev7a",
    "outputId": "ea2923b7-293c-4175-c52f-7844c5a3ae28"
   },
   "outputs": [
    {
     "name": "stdout",
     "output_type": "stream",
     "text": [
      "LG전자 150000\n"
     ]
    }
   ],
   "source": [
    "class Stocks:\n",
    "  \"삼성전자, LG전자, SK하이닉스\"\n",
    "  def __init__(self, name, price): # self는 Stocks 클래스 자신을 의미\n",
    "    self.name=name\n",
    "    self.price=price\n",
    "\n",
    "lg=Stocks(\"LG전자\", 150000) # 객체를 생성할 때 인자를 넣어야 함\n",
    "print(lg.name, lg.price)"
   ]
  },
  {
   "cell_type": "code",
   "execution_count": null,
   "metadata": {
    "colab": {
     "base_uri": "https://localhost:8080/"
    },
    "executionInfo": {
     "elapsed": 11,
     "status": "ok",
     "timestamp": 1684390350423,
     "user": {
      "displayName": "꾬은주",
      "userId": "05623544279730996499"
     },
     "user_tz": -540
    },
    "id": "EpNbjPWHfK6Q",
    "outputId": "48587e6d-61e8-4305-a47d-39e031aac76a"
   },
   "outputs": [
    {
     "name": "stdout",
     "output_type": "stream",
     "text": [
      "LG전자 150000 0\n"
     ]
    }
   ],
   "source": [
    "class Stocks:\n",
    "  \"삼성전자, LG전자, SK하이닉스\"\n",
    "  def __init__ (self, name, price, count=0): # self는 Stocks 클래스 자신을 의미\n",
    "    self.name=name\n",
    "    self.price=price\n",
    "    self.count=count\n",
    "\n",
    "lg=Stocks(\"LG전자\", 150000) # 객체를 생성할 때 인자를 넣어야 함\n",
    "print(lg.name, lg.price, lg.count) # count의 기본값 출력"
   ]
  },
  {
   "cell_type": "code",
   "execution_count": 1,
   "metadata": {
    "colab": {
     "base_uri": "https://localhost:8080/"
    },
    "executionInfo": {
     "elapsed": 7,
     "status": "ok",
     "timestamp": 1684390403083,
     "user": {
      "displayName": "꾬은주",
      "userId": "05623544279730996499"
     },
     "user_tz": -540
    },
    "id": "VpPock-qfTLu",
    "outputId": "92797c1d-9796-4376-8740-cd480cb58081"
   },
   "outputs": [
    {
     "name": "stdout",
     "output_type": "stream",
     "text": [
      "LG전자 150000 0\n",
      "LG전자 150000 1\n",
      "LG전자 150000 2\n"
     ]
    }
   ],
   "source": [
    "class Stocks:\n",
    "  \"삼성전자, LG전자, SK하이닉스\"\n",
    "  def __init__ (self, name, price, count=0): # self는 Stocks 클래스 자신을 의미\n",
    "    self.name=name\n",
    "    self.price=price\n",
    "    self.count=count\n",
    "  def click(self, num_times=1):\n",
    "    \"\"\"클릭 횟수\"\"\"\n",
    "    self.count+= num_times # self.count=self.count+num_times\n",
    "lg=Stocks(\"LG전자\", 150000) # 객체를 생성할 때 인자를 넣어야 함\n",
    "\n",
    "print(lg.name, lg.price, lg.count) #-- ❶ # count의 기본값 출력\n",
    "lg.click( )\n",
    "print(lg.name, lg.price, lg.count) #-- ❷\n",
    "lg.click( )\n",
    "print(lg.name, lg.price, lg.count) #-- ❸"
   ]
  },
  {
   "cell_type": "code",
   "execution_count": 2,
   "metadata": {
    "id": "3YS7uH6zfgqc"
   },
   "outputs": [],
   "source": [
    "class Stocks:\n",
    "  \"삼성전자, LG전자, SK하이닉스\"\n",
    "  def __init__ (self, name, price, count=0):\n",
    "    self.name=name\n",
    "    self.price=price\n",
    "    self.count=count\n",
    "  def __repr__(self): # 문자형 형태로 반환\n",
    "    return f\"Stocks의 클릭 수(count={self.count})\"\n",
    "  def click(self, num_times=1):\n",
    "    \"\"\"클릭 횟수\"\"\"\n",
    "    self.count+= num_times\n",
    "  def read(self):\n",
    "    return self.count\n",
    "  def reset(self):\n",
    "    self.count=0"
   ]
  },
  {
   "cell_type": "code",
   "execution_count": 4,
   "metadata": {},
   "outputs": [
    {
     "name": "stdout",
     "output_type": "stream",
     "text": [
      "Stocks의 클릭 수(count=0)\n"
     ]
    }
   ],
   "source": [
    "lg = Stocks(\"LG전자\", 150000)\n",
    "print(lg)"
   ]
  },
  {
   "cell_type": "code",
   "execution_count": null,
   "metadata": {
    "colab": {
     "base_uri": "https://localhost:8080/"
    },
    "executionInfo": {
     "elapsed": 5,
     "status": "ok",
     "timestamp": 1684390483273,
     "user": {
      "displayName": "꾬은주",
      "userId": "05623544279730996499"
     },
     "user_tz": -540
    },
    "id": "yYx6VvlMfweE",
    "outputId": "a85e6e09-c08d-4746-acf9-a691768e8521"
   },
   "outputs": [
    {
     "name": "stdout",
     "output_type": "stream",
     "text": [
      "LG전자 150000 0\n",
      "LG전자 150000 1\n",
      "LG전자 150000 2\n",
      "LG전자 150000 3\n"
     ]
    }
   ],
   "source": [
    "lg=Stocks(\"LG전자\", 150000) # 객체를 생성할 때 인자를 넣어야 함\n",
    "print(lg.name, lg.price, lg.count) # count의 기본값 출력\n",
    "lg.click( )\n",
    "print(lg.name, lg.price, lg.count)\n",
    "lg.click( )\n",
    "print(lg.name, lg.price, lg.count)\n",
    "lg.click( )\n",
    "print(lg.name, lg.price, lg.count)"
   ]
  },
  {
   "cell_type": "code",
   "execution_count": null,
   "metadata": {
    "colab": {
     "base_uri": "https://localhost:8080/",
     "height": 72
    },
    "executionInfo": {
     "elapsed": 16,
     "status": "ok",
     "timestamp": 1684390494278,
     "user": {
      "displayName": "꾬은주",
      "userId": "05623544279730996499"
     },
     "user_tz": -540
    },
    "id": "HGsQoV7TfyUS",
    "outputId": "ca20b07f-cc75-4c2c-92b2-d4277ad2ad3e"
   },
   "outputs": [
    {
     "name": "stdout",
     "output_type": "stream",
     "text": [
      "LG전자 150000 3\n",
      "LG전자 150000 0\n"
     ]
    },
    {
     "data": {
      "application/vnd.google.colaboratory.intrinsic+json": {
       "type": "string"
      },
      "text/plain": [
       "'Stocks의 클릭 수(count=3)'"
      ]
     },
     "execution_count": 6,
     "metadata": {},
     "output_type": "execute_result"
    }
   ],
   "source": [
    "lg.read( )\n",
    "print(lg.name, lg.price, lg.count) # count의 기본값 출력\n",
    "lg.reset( )\n",
    "print(lg.name, lg.price, lg.count) # count의 기본값 출력\n",
    "lg.click( )\n",
    "lg.click( )\n",
    "lg.click( )\n",
    "lg.__repr__( )"
   ]
  },
  {
   "cell_type": "markdown",
   "metadata": {
    "id": "5sSl5O1mf0wL"
   },
   "source": [
    "## 3. 상속"
   ]
  },
  {
   "cell_type": "code",
   "execution_count": 5,
   "metadata": {
    "colab": {
     "base_uri": "https://localhost:8080/"
    },
    "executionInfo": {
     "elapsed": 8,
     "status": "ok",
     "timestamp": 1684390548857,
     "user": {
      "displayName": "꾬은주",
      "userId": "05623544279730996499"
     },
     "user_tz": -540
    },
    "id": "xuRonrzcf6FY",
    "outputId": "a32145c2-ad78-44b3-eafa-b1ff75ad92f4"
   },
   "outputs": [
    {
     "name": "stdout",
     "output_type": "stream",
     "text": [
      "LG전자 150000 0\n",
      "LG전자 150000 3\n",
      "LG전자 150000 3\n"
     ]
    }
   ],
   "source": [
    "class subStocks(Stocks):\n",
    "  # 상위 클래스의 모든 기능을 받아오고 아무 일도 하지 않는 reset 기능 추가\n",
    "  def reset(self):\n",
    "    pass\n",
    "  def subprice(self,price1):\n",
    "    self.price1=price1\n",
    "    return f'subprice반환', self.price1\n",
    "  def addcountprice(self, count, price):\n",
    "    self.price=price\n",
    "    self.count=count\n",
    "    return f'price+count 합', self.price+self.count\n",
    "\n",
    "sublg=subStocks(\"LG전자\", 150000)\n",
    "print(sublg.name, sublg.price, sublg.count) # 상위 클래스의 name, price, count 변수값 출력\n",
    "sublg.click( )\n",
    "sublg.click( )\n",
    "sublg.click( )\n",
    "print(sublg.name, sublg.price, sublg.count) # 상위 클래스의 click 메서드 실행 후 변수값 출력\n",
    "sublg.reset( ) #pass 때문에 아무작동못함\n",
    "print(sublg.name, sublg.price, sublg.count) # 상위 클래스의 reset 메서드 실행 후 변수값 출력"
   ]
  },
  {
   "cell_type": "code",
   "execution_count": 6,
   "metadata": {
    "colab": {
     "base_uri": "https://localhost:8080/"
    },
    "executionInfo": {
     "elapsed": 5,
     "status": "ok",
     "timestamp": 1684390564576,
     "user": {
      "displayName": "꾬은주",
      "userId": "05623544279730996499"
     },
     "user_tz": -540
    },
    "id": "COpP0n58gC36",
    "outputId": "b368d8b7-ea3c-461a-8c80-cb4caecfa124"
   },
   "outputs": [
    {
     "name": "stdout",
     "output_type": "stream",
     "text": [
      "LG전자 150000 3 ('subprice반환', 180000)\n"
     ]
    }
   ],
   "source": [
    "sublg.subprice(180000)\n",
    "print(sublg.name, sublg.price, sublg.count, sublg.subprice(180000))"
   ]
  },
  {
   "cell_type": "code",
   "execution_count": null,
   "metadata": {
    "colab": {
     "base_uri": "https://localhost:8080/"
    },
    "executionInfo": {
     "elapsed": 343,
     "status": "ok",
     "timestamp": 1684390595036,
     "user": {
      "displayName": "꾬은주",
      "userId": "05623544279730996499"
     },
     "user_tz": -540
    },
    "id": "rIh4TQFrgKUC",
    "outputId": "4490fd67-2a75-4f14-d6b5-b6cefe0fbc52"
   },
   "outputs": [
    {
     "name": "stdout",
     "output_type": "stream",
     "text": [
      "Stocks의 클릭 수(count=0)\n",
      "Stocks의 클릭 수(count=2)\n"
     ]
    },
    {
     "data": {
      "text/plain": [
       "('price+count 합', 150005)"
      ]
     },
     "execution_count": 9,
     "metadata": {},
     "output_type": "execute_result"
    }
   ],
   "source": [
    "sublg1=subStocks(\"LG전자\", 150000)\n",
    "print(sublg1) # 기본값으로 Stocks의 클릭 수(count=0) 출력\n",
    "sublg1.click( )\n",
    "sublg1.click( )\n",
    "print(sublg1)\n",
    "sublg1.addcountprice(5, 150000)"
   ]
  },
  {
   "cell_type": "markdown",
   "metadata": {
    "id": "8__GRn5LgNeP"
   },
   "source": [
    "## 4. 메서드 오버라이딩"
   ]
  },
  {
   "cell_type": "code",
   "execution_count": null,
   "metadata": {
    "colab": {
     "base_uri": "https://localhost:8080/"
    },
    "executionInfo": {
     "elapsed": 394,
     "status": "ok",
     "timestamp": 1684390667010,
     "user": {
      "displayName": "꾬은주",
      "userId": "05623544279730996499"
     },
     "user_tz": -540
    },
    "id": "TueJHfJUgPsB",
    "outputId": "e4ab7bd0-9d7f-462d-8f02-050a1e79a5d7"
   },
   "outputs": [
    {
     "name": "stdout",
     "output_type": "stream",
     "text": [
      "Stocks의 클릭 수(count=0)\n",
      "Stocks의 클릭 수(count=800)\n"
     ]
    }
   ],
   "source": [
    "class subsubStocks(subStocks):\n",
    "  def reset(self):\n",
    "    self.count=100 # 추가\n",
    "  def click(self, num_times=2):\n",
    "    \"\"\"클릭 2배\"\"\"\n",
    "    self.count *= num_times\n",
    "  def subsubprice(self, price1):\n",
    "    self.price1=price1\n",
    "    return f'subprice반환', self.price1\n",
    "  def addcountprice(self, count, price):\n",
    "    self.price=price\n",
    "    self.count=count\n",
    "    return f'100*count+price', 100*self.count+self.price\n",
    "\n",
    "sublg7=subStocks(\"LG전자7\", 140000)\n",
    "subsublg7=subsubStocks(\"LG전자7\", 140000)\n",
    "print(subsublg7)\n",
    "subsublg7.reset( )\n",
    "subsublg7.click( )\n",
    "subsublg7.click( )\n",
    "subsublg7.click( )\n",
    "print(subsublg7)"
   ]
  },
  {
   "cell_type": "code",
   "execution_count": null,
   "metadata": {
    "colab": {
     "base_uri": "https://localhost:8080/"
    },
    "executionInfo": {
     "elapsed": 9,
     "status": "ok",
     "timestamp": 1684390683818,
     "user": {
      "displayName": "꾬은주",
      "userId": "05623544279730996499"
     },
     "user_tz": -540
    },
    "id": "0pamVnH2ggLU",
    "outputId": "ccc15ec4-c4af-4487-f796-210a4285c245"
   },
   "outputs": [
    {
     "name": "stdout",
     "output_type": "stream",
     "text": [
      "LG전자7 140000 800\n",
      "('price+count 합', 105)\n",
      "('100*count+price', 600)\n"
     ]
    }
   ],
   "source": [
    "print(subsublg7.name, subsublg7.price, subsublg7.count) # 메서드 오버라이딩으로 800 출력\n",
    "print(sublg7.addcountprice(5, 100))\n",
    "print(subsublg7.addcountprice(5, 100))"
   ]
  }
 ],
 "metadata": {
  "colab": {
   "authorship_tag": "ABX9TyNWBTv9c8MK1sB8iB5oOkMG",
   "provenance": []
  },
  "kernelspec": {
   "display_name": "Python 3 (ipykernel)",
   "language": "python",
   "name": "python3"
  },
  "language_info": {
   "codemirror_mode": {
    "name": "ipython",
    "version": 3
   },
   "file_extension": ".py",
   "mimetype": "text/x-python",
   "name": "python",
   "nbconvert_exporter": "python",
   "pygments_lexer": "ipython3",
   "version": "3.9.7"
  }
 },
 "nbformat": 4,
 "nbformat_minor": 1
}
